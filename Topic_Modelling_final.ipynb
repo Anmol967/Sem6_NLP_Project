{
 "cells": [
  {
   "cell_type": "code",
   "execution_count": 1,
   "metadata": {},
   "outputs": [],
   "source": [
    "import pandas as pd\n",
    "import numpy as np"
   ]
  },
  {
   "cell_type": "code",
   "execution_count": 29,
   "metadata": {},
   "outputs": [
    {
     "data": {
      "text/html": [
       "<div>\n",
       "<style scoped>\n",
       "    .dataframe tbody tr th:only-of-type {\n",
       "        vertical-align: middle;\n",
       "    }\n",
       "\n",
       "    .dataframe tbody tr th {\n",
       "        vertical-align: top;\n",
       "    }\n",
       "\n",
       "    .dataframe thead th {\n",
       "        text-align: right;\n",
       "    }\n",
       "</style>\n",
       "<table border=\"1\" class=\"dataframe\">\n",
       "  <thead>\n",
       "    <tr style=\"text-align: right;\">\n",
       "      <th></th>\n",
       "      <th>Id</th>\n",
       "      <th>Tag</th>\n",
       "    </tr>\n",
       "  </thead>\n",
       "  <tbody>\n",
       "    <tr>\n",
       "      <th>0</th>\n",
       "      <td>80</td>\n",
       "      <td>flex</td>\n",
       "    </tr>\n",
       "    <tr>\n",
       "      <th>1</th>\n",
       "      <td>80</td>\n",
       "      <td>actionscript-3</td>\n",
       "    </tr>\n",
       "    <tr>\n",
       "      <th>2</th>\n",
       "      <td>80</td>\n",
       "      <td>air</td>\n",
       "    </tr>\n",
       "    <tr>\n",
       "      <th>3</th>\n",
       "      <td>90</td>\n",
       "      <td>svn</td>\n",
       "    </tr>\n",
       "    <tr>\n",
       "      <th>4</th>\n",
       "      <td>90</td>\n",
       "      <td>tortoisesvn</td>\n",
       "    </tr>\n",
       "  </tbody>\n",
       "</table>\n",
       "</div>"
      ],
      "text/plain": [
       "   Id             Tag\n",
       "0  80            flex\n",
       "1  80  actionscript-3\n",
       "2  80             air\n",
       "3  90             svn\n",
       "4  90     tortoisesvn"
      ]
     },
     "execution_count": 29,
     "metadata": {},
     "output_type": "execute_result"
    }
   ],
   "source": [
    "tags = pd.read_csv('Tag_Prediction_Data/Tags.csv')\n",
    "tags.head()"
   ]
  },
  {
   "cell_type": "code",
   "execution_count": 30,
   "metadata": {},
   "outputs": [
    {
     "data": {
      "text/html": [
       "<div>\n",
       "<style scoped>\n",
       "    .dataframe tbody tr th:only-of-type {\n",
       "        vertical-align: middle;\n",
       "    }\n",
       "\n",
       "    .dataframe tbody tr th {\n",
       "        vertical-align: top;\n",
       "    }\n",
       "\n",
       "    .dataframe thead th {\n",
       "        text-align: right;\n",
       "    }\n",
       "</style>\n",
       "<table border=\"1\" class=\"dataframe\">\n",
       "  <thead>\n",
       "    <tr style=\"text-align: right;\">\n",
       "      <th></th>\n",
       "      <th>index</th>\n",
       "      <th>Tag</th>\n",
       "    </tr>\n",
       "  </thead>\n",
       "  <tbody>\n",
       "    <tr>\n",
       "      <th>0</th>\n",
       "      <td>javascript</td>\n",
       "      <td>124155</td>\n",
       "    </tr>\n",
       "    <tr>\n",
       "      <th>1</th>\n",
       "      <td>java</td>\n",
       "      <td>115212</td>\n",
       "    </tr>\n",
       "    <tr>\n",
       "      <th>2</th>\n",
       "      <td>c#</td>\n",
       "      <td>101186</td>\n",
       "    </tr>\n",
       "    <tr>\n",
       "      <th>3</th>\n",
       "      <td>php</td>\n",
       "      <td>98808</td>\n",
       "    </tr>\n",
       "    <tr>\n",
       "      <th>4</th>\n",
       "      <td>android</td>\n",
       "      <td>90659</td>\n",
       "    </tr>\n",
       "  </tbody>\n",
       "</table>\n",
       "</div>"
      ],
      "text/plain": [
       "        index     Tag\n",
       "0  javascript  124155\n",
       "1        java  115212\n",
       "2          c#  101186\n",
       "3         php   98808\n",
       "4     android   90659"
      ]
     },
     "execution_count": 30,
     "metadata": {},
     "output_type": "execute_result"
    }
   ],
   "source": [
    "temp = tags['Tag'].value_counts()\n",
    "temp = pd.DataFrame(temp)\n",
    "temp = temp.reset_index()\n",
    "temp.head()"
   ]
  },
  {
   "cell_type": "code",
   "execution_count": 31,
   "metadata": {},
   "outputs": [
    {
     "data": {
      "text/html": [
       "<div>\n",
       "<style scoped>\n",
       "    .dataframe tbody tr th:only-of-type {\n",
       "        vertical-align: middle;\n",
       "    }\n",
       "\n",
       "    .dataframe tbody tr th {\n",
       "        vertical-align: top;\n",
       "    }\n",
       "\n",
       "    .dataframe thead th {\n",
       "        text-align: right;\n",
       "    }\n",
       "</style>\n",
       "<table border=\"1\" class=\"dataframe\">\n",
       "  <thead>\n",
       "    <tr style=\"text-align: right;\">\n",
       "      <th></th>\n",
       "      <th>Tag</th>\n",
       "      <th>Counts</th>\n",
       "    </tr>\n",
       "  </thead>\n",
       "  <tbody>\n",
       "    <tr>\n",
       "      <th>0</th>\n",
       "      <td>javascript</td>\n",
       "      <td>124155</td>\n",
       "    </tr>\n",
       "    <tr>\n",
       "      <th>1</th>\n",
       "      <td>java</td>\n",
       "      <td>115212</td>\n",
       "    </tr>\n",
       "    <tr>\n",
       "      <th>2</th>\n",
       "      <td>c#</td>\n",
       "      <td>101186</td>\n",
       "    </tr>\n",
       "    <tr>\n",
       "      <th>3</th>\n",
       "      <td>php</td>\n",
       "      <td>98808</td>\n",
       "    </tr>\n",
       "    <tr>\n",
       "      <th>4</th>\n",
       "      <td>android</td>\n",
       "      <td>90659</td>\n",
       "    </tr>\n",
       "  </tbody>\n",
       "</table>\n",
       "</div>"
      ],
      "text/plain": [
       "          Tag  Counts\n",
       "0  javascript  124155\n",
       "1        java  115212\n",
       "2          c#  101186\n",
       "3         php   98808\n",
       "4     android   90659"
      ]
     },
     "execution_count": 31,
     "metadata": {},
     "output_type": "execute_result"
    }
   ],
   "source": [
    "temp.rename(columns = {'index':'Tag' , 'Tag':'Counts'}, inplace = True)\n",
    "temp.head()"
   ]
  },
  {
   "cell_type": "code",
   "execution_count": 32,
   "metadata": {},
   "outputs": [
    {
     "data": {
      "text/html": [
       "<div>\n",
       "<style scoped>\n",
       "    .dataframe tbody tr th:only-of-type {\n",
       "        vertical-align: middle;\n",
       "    }\n",
       "\n",
       "    .dataframe tbody tr th {\n",
       "        vertical-align: top;\n",
       "    }\n",
       "\n",
       "    .dataframe thead th {\n",
       "        text-align: right;\n",
       "    }\n",
       "</style>\n",
       "<table border=\"1\" class=\"dataframe\">\n",
       "  <thead>\n",
       "    <tr style=\"text-align: right;\">\n",
       "      <th></th>\n",
       "      <th>Id</th>\n",
       "      <th>Tag</th>\n",
       "      <th>Counts</th>\n",
       "    </tr>\n",
       "  </thead>\n",
       "  <tbody>\n",
       "    <tr>\n",
       "      <th>0</th>\n",
       "      <td>80</td>\n",
       "      <td>flex</td>\n",
       "      <td>2430</td>\n",
       "    </tr>\n",
       "    <tr>\n",
       "      <th>1</th>\n",
       "      <td>10870</td>\n",
       "      <td>flex</td>\n",
       "      <td>2430</td>\n",
       "    </tr>\n",
       "    <tr>\n",
       "      <th>2</th>\n",
       "      <td>14350</td>\n",
       "      <td>flex</td>\n",
       "      <td>2430</td>\n",
       "    </tr>\n",
       "    <tr>\n",
       "      <th>3</th>\n",
       "      <td>20510</td>\n",
       "      <td>flex</td>\n",
       "      <td>2430</td>\n",
       "    </tr>\n",
       "    <tr>\n",
       "      <th>4</th>\n",
       "      <td>20910</td>\n",
       "      <td>flex</td>\n",
       "      <td>2430</td>\n",
       "    </tr>\n",
       "  </tbody>\n",
       "</table>\n",
       "</div>"
      ],
      "text/plain": [
       "      Id   Tag  Counts\n",
       "0     80  flex    2430\n",
       "1  10870  flex    2430\n",
       "2  14350  flex    2430\n",
       "3  20510  flex    2430\n",
       "4  20910  flex    2430"
      ]
     },
     "execution_count": 32,
     "metadata": {},
     "output_type": "execute_result"
    }
   ],
   "source": [
    "tags = pd.merge(tags , temp , on = 'Tag')\n",
    "tags.head()"
   ]
  },
  {
   "cell_type": "markdown",
   "metadata": {},
   "source": [
    "### Choosing the 20 immediate tags which have count >= 4021 - for a decent data size and less imbalance in classes i.e., tags"
   ]
  },
  {
   "cell_type": "code",
   "execution_count": 33,
   "metadata": {},
   "outputs": [
    {
     "data": {
      "text/plain": [
       "Int64Index([  0,   1,   2,   3,   4,   5,   6,   7,   8,   9,\n",
       "            ...\n",
       "             97,  98,  99, 100, 101, 102, 103, 104, 105, 106],\n",
       "           dtype='int64', length=107)"
      ]
     },
     "execution_count": 33,
     "metadata": {},
     "output_type": "execute_result"
    }
   ],
   "source": [
    "temp.loc[temp[\"Counts\"] >= 4021, :].index"
   ]
  },
  {
   "cell_type": "code",
   "execution_count": 34,
   "metadata": {},
   "outputs": [],
   "source": [
    "# stores the row indices of the chosen tags (i.e., tags with counts >= 4021) from the table - temp\n",
    "chosen_tags_indices = list(range(106, -1, -1))[:20]\n",
    "chosen_tags_names = list(temp.loc[chosen_tags_indices, \"Tag\"].values)"
   ]
  },
  {
   "cell_type": "code",
   "execution_count": 35,
   "metadata": {},
   "outputs": [],
   "source": [
    "#tags.where(tags['Counts']>=20345 , inplace = True)\n",
    "tags = tags.loc[tags[\"Tag\"].isin(chosen_tags_names), :]"
   ]
  },
  {
   "cell_type": "code",
   "execution_count": 36,
   "metadata": {},
   "outputs": [
    {
     "data": {
      "text/html": [
       "<div>\n",
       "<style scoped>\n",
       "    .dataframe tbody tr th:only-of-type {\n",
       "        vertical-align: middle;\n",
       "    }\n",
       "\n",
       "    .dataframe tbody tr th {\n",
       "        vertical-align: top;\n",
       "    }\n",
       "\n",
       "    .dataframe thead th {\n",
       "        text-align: right;\n",
       "    }\n",
       "</style>\n",
       "<table border=\"1\" class=\"dataframe\">\n",
       "  <thead>\n",
       "    <tr style=\"text-align: right;\">\n",
       "      <th></th>\n",
       "      <th>Id</th>\n",
       "      <th>Tag</th>\n",
       "      <th>Counts</th>\n",
       "    </tr>\n",
       "  </thead>\n",
       "  <tbody>\n",
       "    <tr>\n",
       "      <th>2430</th>\n",
       "      <td>80</td>\n",
       "      <td>actionscript-3</td>\n",
       "      <td>4039</td>\n",
       "    </tr>\n",
       "    <tr>\n",
       "      <th>2431</th>\n",
       "      <td>10870</td>\n",
       "      <td>actionscript-3</td>\n",
       "      <td>4039</td>\n",
       "    </tr>\n",
       "    <tr>\n",
       "      <th>2432</th>\n",
       "      <td>14350</td>\n",
       "      <td>actionscript-3</td>\n",
       "      <td>4039</td>\n",
       "    </tr>\n",
       "    <tr>\n",
       "      <th>2433</th>\n",
       "      <td>33590</td>\n",
       "      <td>actionscript-3</td>\n",
       "      <td>4039</td>\n",
       "    </tr>\n",
       "    <tr>\n",
       "      <th>2434</th>\n",
       "      <td>63390</td>\n",
       "      <td>actionscript-3</td>\n",
       "      <td>4039</td>\n",
       "    </tr>\n",
       "  </tbody>\n",
       "</table>\n",
       "</div>"
      ],
      "text/plain": [
       "         Id             Tag  Counts\n",
       "2430     80  actionscript-3    4039\n",
       "2431  10870  actionscript-3    4039\n",
       "2432  14350  actionscript-3    4039\n",
       "2433  33590  actionscript-3    4039\n",
       "2434  63390  actionscript-3    4039"
      ]
     },
     "execution_count": 36,
     "metadata": {},
     "output_type": "execute_result"
    }
   ],
   "source": [
    "tags.head()"
   ]
  },
  {
   "cell_type": "code",
   "execution_count": 37,
   "metadata": {},
   "outputs": [
    {
     "data": {
      "text/html": [
       "<div>\n",
       "<style scoped>\n",
       "    .dataframe tbody tr th:only-of-type {\n",
       "        vertical-align: middle;\n",
       "    }\n",
       "\n",
       "    .dataframe tbody tr th {\n",
       "        vertical-align: top;\n",
       "    }\n",
       "\n",
       "    .dataframe thead th {\n",
       "        text-align: right;\n",
       "    }\n",
       "</style>\n",
       "<table border=\"1\" class=\"dataframe\">\n",
       "  <thead>\n",
       "    <tr style=\"text-align: right;\">\n",
       "      <th></th>\n",
       "      <th>Id</th>\n",
       "      <th>Tag</th>\n",
       "      <th>Counts</th>\n",
       "    </tr>\n",
       "  </thead>\n",
       "  <tbody>\n",
       "    <tr>\n",
       "      <th>2430</th>\n",
       "      <td>80</td>\n",
       "      <td>actionscript-3</td>\n",
       "      <td>4039</td>\n",
       "    </tr>\n",
       "    <tr>\n",
       "      <th>263927</th>\n",
       "      <td>330</td>\n",
       "      <td>class</td>\n",
       "      <td>4485</td>\n",
       "    </tr>\n",
       "    <tr>\n",
       "      <th>325131</th>\n",
       "      <td>930</td>\n",
       "      <td>loops</td>\n",
       "      <td>4121</td>\n",
       "    </tr>\n",
       "    <tr>\n",
       "      <th>343735</th>\n",
       "      <td>1760</td>\n",
       "      <td>unit-testing</td>\n",
       "      <td>4437</td>\n",
       "    </tr>\n",
       "    <tr>\n",
       "      <th>343736</th>\n",
       "      <td>3150</td>\n",
       "      <td>unit-testing</td>\n",
       "      <td>4437</td>\n",
       "    </tr>\n",
       "  </tbody>\n",
       "</table>\n",
       "</div>"
      ],
      "text/plain": [
       "          Id             Tag  Counts\n",
       "2430      80  actionscript-3    4039\n",
       "263927   330           class    4485\n",
       "325131   930           loops    4121\n",
       "343735  1760    unit-testing    4437\n",
       "343736  3150    unit-testing    4437"
      ]
     },
     "execution_count": 37,
     "metadata": {},
     "output_type": "execute_result"
    }
   ],
   "source": [
    "tags = tags.sort_values(by = 'Id')\n",
    "tags.head()"
   ]
  },
  {
   "cell_type": "code",
   "execution_count": 38,
   "metadata": {},
   "outputs": [],
   "source": [
    "tags['Id'] = tags['Id'].astype('int32')"
   ]
  },
  {
   "cell_type": "code",
   "execution_count": 39,
   "metadata": {},
   "outputs": [
    {
     "data": {
      "text/plain": [
       "(86225, 3)"
      ]
     },
     "execution_count": 39,
     "metadata": {},
     "output_type": "execute_result"
    }
   ],
   "source": [
    "tags.shape"
   ]
  },
  {
   "cell_type": "markdown",
   "metadata": {},
   "source": [
    "### Tags file ready, importing the questions file - "
   ]
  },
  {
   "cell_type": "code",
   "execution_count": 42,
   "metadata": {},
   "outputs": [],
   "source": [
    "q = pd.read_csv('Tag_Prediction_Data/Questions.csv' , encoding='latin-1')"
   ]
  },
  {
   "cell_type": "code",
   "execution_count": 43,
   "metadata": {},
   "outputs": [
    {
     "data": {
      "text/plain": [
       "(1264216, 7)"
      ]
     },
     "execution_count": 43,
     "metadata": {},
     "output_type": "execute_result"
    }
   ],
   "source": [
    "q.shape"
   ]
  },
  {
   "cell_type": "code",
   "execution_count": 44,
   "metadata": {},
   "outputs": [
    {
     "data": {
      "text/html": [
       "<div>\n",
       "<style scoped>\n",
       "    .dataframe tbody tr th:only-of-type {\n",
       "        vertical-align: middle;\n",
       "    }\n",
       "\n",
       "    .dataframe tbody tr th {\n",
       "        vertical-align: top;\n",
       "    }\n",
       "\n",
       "    .dataframe thead th {\n",
       "        text-align: right;\n",
       "    }\n",
       "</style>\n",
       "<table border=\"1\" class=\"dataframe\">\n",
       "  <thead>\n",
       "    <tr style=\"text-align: right;\">\n",
       "      <th></th>\n",
       "      <th>Id</th>\n",
       "      <th>OwnerUserId</th>\n",
       "      <th>CreationDate</th>\n",
       "      <th>ClosedDate</th>\n",
       "      <th>Score</th>\n",
       "      <th>Title</th>\n",
       "      <th>Body</th>\n",
       "    </tr>\n",
       "  </thead>\n",
       "  <tbody>\n",
       "    <tr>\n",
       "      <th>0</th>\n",
       "      <td>80</td>\n",
       "      <td>26.0</td>\n",
       "      <td>2008-08-01T13:57:07Z</td>\n",
       "      <td>NaN</td>\n",
       "      <td>26</td>\n",
       "      <td>SQLStatement.execute() - multiple queries in o...</td>\n",
       "      <td>&lt;p&gt;I've written a database generation script i...</td>\n",
       "    </tr>\n",
       "    <tr>\n",
       "      <th>1</th>\n",
       "      <td>90</td>\n",
       "      <td>58.0</td>\n",
       "      <td>2008-08-01T14:41:24Z</td>\n",
       "      <td>2012-12-26T03:45:49Z</td>\n",
       "      <td>144</td>\n",
       "      <td>Good branching and merging tutorials for Torto...</td>\n",
       "      <td>&lt;p&gt;Are there any really good tutorials explain...</td>\n",
       "    </tr>\n",
       "    <tr>\n",
       "      <th>2</th>\n",
       "      <td>120</td>\n",
       "      <td>83.0</td>\n",
       "      <td>2008-08-01T15:50:08Z</td>\n",
       "      <td>NaN</td>\n",
       "      <td>21</td>\n",
       "      <td>ASP.NET Site Maps</td>\n",
       "      <td>&lt;p&gt;Has anyone got experience creating &lt;strong&gt;...</td>\n",
       "    </tr>\n",
       "    <tr>\n",
       "      <th>3</th>\n",
       "      <td>180</td>\n",
       "      <td>2089740.0</td>\n",
       "      <td>2008-08-01T18:42:19Z</td>\n",
       "      <td>NaN</td>\n",
       "      <td>53</td>\n",
       "      <td>Function for creating color wheels</td>\n",
       "      <td>&lt;p&gt;This is something I've pseudo-solved many t...</td>\n",
       "    </tr>\n",
       "    <tr>\n",
       "      <th>4</th>\n",
       "      <td>260</td>\n",
       "      <td>91.0</td>\n",
       "      <td>2008-08-01T23:22:08Z</td>\n",
       "      <td>NaN</td>\n",
       "      <td>49</td>\n",
       "      <td>Adding scripting functionality to .NET applica...</td>\n",
       "      <td>&lt;p&gt;I have a little game written in C#. It uses...</td>\n",
       "    </tr>\n",
       "  </tbody>\n",
       "</table>\n",
       "</div>"
      ],
      "text/plain": [
       "    Id  OwnerUserId          CreationDate            ClosedDate  Score  \\\n",
       "0   80         26.0  2008-08-01T13:57:07Z                   NaN     26   \n",
       "1   90         58.0  2008-08-01T14:41:24Z  2012-12-26T03:45:49Z    144   \n",
       "2  120         83.0  2008-08-01T15:50:08Z                   NaN     21   \n",
       "3  180    2089740.0  2008-08-01T18:42:19Z                   NaN     53   \n",
       "4  260         91.0  2008-08-01T23:22:08Z                   NaN     49   \n",
       "\n",
       "                                               Title  \\\n",
       "0  SQLStatement.execute() - multiple queries in o...   \n",
       "1  Good branching and merging tutorials for Torto...   \n",
       "2                                  ASP.NET Site Maps   \n",
       "3                 Function for creating color wheels   \n",
       "4  Adding scripting functionality to .NET applica...   \n",
       "\n",
       "                                                Body  \n",
       "0  <p>I've written a database generation script i...  \n",
       "1  <p>Are there any really good tutorials explain...  \n",
       "2  <p>Has anyone got experience creating <strong>...  \n",
       "3  <p>This is something I've pseudo-solved many t...  \n",
       "4  <p>I have a little game written in C#. It uses...  "
      ]
     },
     "execution_count": 44,
     "metadata": {},
     "output_type": "execute_result"
    }
   ],
   "source": [
    "q.head()"
   ]
  },
  {
   "cell_type": "code",
   "execution_count": 45,
   "metadata": {},
   "outputs": [],
   "source": [
    "df = q.drop(['OwnerUserId' ,  'CreationDate' , 'ClosedDate' , 'Score'] , axis =1)"
   ]
  },
  {
   "cell_type": "code",
   "execution_count": 46,
   "metadata": {},
   "outputs": [],
   "source": [
    "def comb_tags_func(x):\n",
    "    list_tags = x.values\n",
    "    tag_comb = ' '.join(list_tags)\n",
    "    return tag_comb"
   ]
  },
  {
   "cell_type": "code",
   "execution_count": 47,
   "metadata": {},
   "outputs": [],
   "source": [
    "mapping_dict = tags.groupby('Id')['Tag'].apply(comb_tags_func)"
   ]
  },
  {
   "cell_type": "code",
   "execution_count": 48,
   "metadata": {},
   "outputs": [],
   "source": [
    "df['tag'] = df['Id'].map(mapping_dict)"
   ]
  },
  {
   "cell_type": "code",
   "execution_count": 49,
   "metadata": {},
   "outputs": [
    {
     "data": {
      "text/plain": [
       "(84884, 4)"
      ]
     },
     "execution_count": 49,
     "metadata": {},
     "output_type": "execute_result"
    }
   ],
   "source": [
    "df.dropna(inplace=True)\n",
    "df.shape"
   ]
  },
  {
   "cell_type": "code",
   "execution_count": 50,
   "metadata": {},
   "outputs": [
    {
     "data": {
      "text/html": [
       "<div>\n",
       "<style scoped>\n",
       "    .dataframe tbody tr th:only-of-type {\n",
       "        vertical-align: middle;\n",
       "    }\n",
       "\n",
       "    .dataframe tbody tr th {\n",
       "        vertical-align: top;\n",
       "    }\n",
       "\n",
       "    .dataframe thead th {\n",
       "        text-align: right;\n",
       "    }\n",
       "</style>\n",
       "<table border=\"1\" class=\"dataframe\">\n",
       "  <thead>\n",
       "    <tr style=\"text-align: right;\">\n",
       "      <th></th>\n",
       "      <th>Id</th>\n",
       "      <th>Title</th>\n",
       "      <th>Body</th>\n",
       "      <th>tag</th>\n",
       "    </tr>\n",
       "  </thead>\n",
       "  <tbody>\n",
       "    <tr>\n",
       "      <th>0</th>\n",
       "      <td>80</td>\n",
       "      <td>SQLStatement.execute() - multiple queries in o...</td>\n",
       "      <td>&lt;p&gt;I've written a database generation script i...</td>\n",
       "      <td>[actionscript-3]</td>\n",
       "    </tr>\n",
       "    <tr>\n",
       "      <th>5</th>\n",
       "      <td>330</td>\n",
       "      <td>Should I use nested classes in this case?</td>\n",
       "      <td>&lt;p&gt;I am working on a collection of classes use...</td>\n",
       "      <td>[class]</td>\n",
       "    </tr>\n",
       "    <tr>\n",
       "      <th>10</th>\n",
       "      <td>930</td>\n",
       "      <td>How do I connect to a database and loop over a...</td>\n",
       "      <td>&lt;p&gt;What's the simplest way to connect and quer...</td>\n",
       "      <td>[loops]</td>\n",
       "    </tr>\n",
       "    <tr>\n",
       "      <th>20</th>\n",
       "      <td>1760</td>\n",
       "      <td>.NET Unit Testing packages?</td>\n",
       "      <td>&lt;p&gt;Getting back into a bit more .NET after a f...</td>\n",
       "      <td>[unit-testing]</td>\n",
       "    </tr>\n",
       "    <tr>\n",
       "      <th>36</th>\n",
       "      <td>3150</td>\n",
       "      <td>How to set up unit testing for Visual Studio C++</td>\n",
       "      <td>&lt;p&gt;I'm having trouble figuring out how to get ...</td>\n",
       "      <td>[unit-testing]</td>\n",
       "    </tr>\n",
       "  </tbody>\n",
       "</table>\n",
       "</div>"
      ],
      "text/plain": [
       "      Id                                              Title  \\\n",
       "0     80  SQLStatement.execute() - multiple queries in o...   \n",
       "5    330          Should I use nested classes in this case?   \n",
       "10   930  How do I connect to a database and loop over a...   \n",
       "20  1760                        .NET Unit Testing packages?   \n",
       "36  3150   How to set up unit testing for Visual Studio C++   \n",
       "\n",
       "                                                 Body               tag  \n",
       "0   <p>I've written a database generation script i...  [actionscript-3]  \n",
       "5   <p>I am working on a collection of classes use...           [class]  \n",
       "10  <p>What's the simplest way to connect and quer...           [loops]  \n",
       "20  <p>Getting back into a bit more .NET after a f...    [unit-testing]  \n",
       "36  <p>I'm having trouble figuring out how to get ...    [unit-testing]  "
      ]
     },
     "execution_count": 50,
     "metadata": {},
     "output_type": "execute_result"
    }
   ],
   "source": [
    "df['tag'] = df['tag'].apply(lambda x : x.split())\n",
    "df.head()"
   ]
  },
  {
   "cell_type": "markdown",
   "metadata": {},
   "source": [
    "### Dataset ready, now Topic Modelling starts - "
   ]
  },
  {
   "cell_type": "code",
   "execution_count": 54,
   "metadata": {},
   "outputs": [],
   "source": [
    "from tqdm.notebook import tqdm\n",
    "\n",
    "import gensim\n",
    "from gensim.utils import simple_preprocess\n",
    "from gensim.parsing.preprocessing import STOPWORDS\n",
    "\n",
    "import nltk\n",
    "from nltk.corpus import stopwords\n",
    "from nltk.tokenize import word_tokenize\n",
    "from nltk.stem import WordNetLemmatizer, SnowballStemmer\n",
    "from nltk.stem.porter import *\n",
    "from nltk.corpus import wordnet"
   ]
  },
  {
   "cell_type": "code",
   "execution_count": 55,
   "metadata": {},
   "outputs": [],
   "source": [
    "tqdm.pandas()"
   ]
  },
  {
   "cell_type": "code",
   "execution_count": 52,
   "metadata": {},
   "outputs": [
    {
     "data": {
      "text/html": [
       "<div>\n",
       "<style scoped>\n",
       "    .dataframe tbody tr th:only-of-type {\n",
       "        vertical-align: middle;\n",
       "    }\n",
       "\n",
       "    .dataframe tbody tr th {\n",
       "        vertical-align: top;\n",
       "    }\n",
       "\n",
       "    .dataframe thead th {\n",
       "        text-align: right;\n",
       "    }\n",
       "</style>\n",
       "<table border=\"1\" class=\"dataframe\">\n",
       "  <thead>\n",
       "    <tr style=\"text-align: right;\">\n",
       "      <th></th>\n",
       "      <th>Id</th>\n",
       "      <th>Body</th>\n",
       "    </tr>\n",
       "  </thead>\n",
       "  <tbody>\n",
       "    <tr>\n",
       "      <th>0</th>\n",
       "      <td>80</td>\n",
       "      <td>&lt;p&gt;I've written a database generation script i...</td>\n",
       "    </tr>\n",
       "    <tr>\n",
       "      <th>5</th>\n",
       "      <td>330</td>\n",
       "      <td>&lt;p&gt;I am working on a collection of classes use...</td>\n",
       "    </tr>\n",
       "    <tr>\n",
       "      <th>10</th>\n",
       "      <td>930</td>\n",
       "      <td>&lt;p&gt;What's the simplest way to connect and quer...</td>\n",
       "    </tr>\n",
       "    <tr>\n",
       "      <th>20</th>\n",
       "      <td>1760</td>\n",
       "      <td>&lt;p&gt;Getting back into a bit more .NET after a f...</td>\n",
       "    </tr>\n",
       "    <tr>\n",
       "      <th>36</th>\n",
       "      <td>3150</td>\n",
       "      <td>&lt;p&gt;I'm having trouble figuring out how to get ...</td>\n",
       "    </tr>\n",
       "  </tbody>\n",
       "</table>\n",
       "</div>"
      ],
      "text/plain": [
       "      Id                                               Body\n",
       "0     80  <p>I've written a database generation script i...\n",
       "5    330  <p>I am working on a collection of classes use...\n",
       "10   930  <p>What's the simplest way to connect and quer...\n",
       "20  1760  <p>Getting back into a bit more .NET after a f...\n",
       "36  3150  <p>I'm having trouble figuring out how to get ..."
      ]
     },
     "execution_count": 52,
     "metadata": {},
     "output_type": "execute_result"
    }
   ],
   "source": [
    "df =df.drop(['Title', 'tag'] , axis =1)\n",
    "df.head()"
   ]
  },
  {
   "cell_type": "code",
   "execution_count": 53,
   "metadata": {},
   "outputs": [
    {
     "name": "stderr",
     "output_type": "stream",
     "text": [
      "[nltk_data] Downloading package wordnet to C:\\Users\\Anmol\n",
      "[nltk_data]     Bhatia\\AppData\\Roaming\\nltk_data...\n",
      "[nltk_data]   Package wordnet is already up-to-date!\n",
      "[nltk_data] Downloading package punkt to C:\\Users\\Anmol\n",
      "[nltk_data]     Bhatia\\AppData\\Roaming\\nltk_data...\n",
      "[nltk_data]   Package punkt is already up-to-date!\n",
      "[nltk_data] Downloading package stopwords to C:\\Users\\Anmol\n",
      "[nltk_data]     Bhatia\\AppData\\Roaming\\nltk_data...\n",
      "[nltk_data]   Package stopwords is already up-to-date!\n",
      "[nltk_data] Downloading package averaged_perceptron_tagger to\n",
      "[nltk_data]     C:\\Users\\Anmol Bhatia\\AppData\\Roaming\\nltk_data...\n",
      "[nltk_data]   Package averaged_perceptron_tagger is already up-to-\n",
      "[nltk_data]       date!\n",
      "[nltk_data] Downloading package omw-1.4 to C:\\Users\\Anmol\n",
      "[nltk_data]     Bhatia\\AppData\\Roaming\\nltk_data...\n",
      "[nltk_data]   Package omw-1.4 is already up-to-date!\n"
     ]
    }
   ],
   "source": [
    "nltk.download('wordnet')\n",
    "nltk.download('punkt')\n",
    "nltk.download('stopwords')\n",
    "nltk.download('averaged_perceptron_tagger')\n",
    "nltk.download('omw-1.4')\n",
    "stop_words = set(stopwords.words('english'))"
   ]
  },
  {
   "cell_type": "code",
   "execution_count": 56,
   "metadata": {},
   "outputs": [],
   "source": [
    "df['Body']=df['Body'].str.replace('<p>',' ')"
   ]
  },
  {
   "cell_type": "code",
   "execution_count": 57,
   "metadata": {},
   "outputs": [],
   "source": [
    "import re\n",
    "df['Body']=df['Body'].apply(lambda x : re.sub('(https?:\\/\\/)?([\\da-z\\.-]+)\\.([a-z\\.]{2,6})([\\/\\w \\.-]*)' , ' ' , x))"
   ]
  },
  {
   "cell_type": "code",
   "execution_count": 58,
   "metadata": {},
   "outputs": [],
   "source": [
    "df['Body']=df['Body'].str.replace('</p>',' ')\n",
    "df['Body']=df['Body'].str.replace('\\n',' ')\n",
    "df['Body']=df['Body'].str.replace('</a>',' ')\n",
    "df['Body']=df['Body'].str.replace('<a href=\" \">','')\n",
    "df['Body']=df['Body'].apply(lambda x : x.lower())"
   ]
  },
  {
   "cell_type": "code",
   "execution_count": 59,
   "metadata": {},
   "outputs": [],
   "source": [
    "def ret_pos_tag(txt):\n",
    "    # tokenizes , removes stop words and other redundant words and returns Parts of Speech(POS) tag for all the remaining words \n",
    "    wordsList = nltk.word_tokenize(txt)\n",
    "    wordsList = [w for w in wordsList if not w in stop_words and len(w) > 3]\n",
    "    tagged = nltk.pos_tag(wordsList)\n",
    "    return tagged\n",
    "\n",
    "stemmer = SnowballStemmer('english')"
   ]
  },
  {
   "cell_type": "code",
   "execution_count": 60,
   "metadata": {},
   "outputs": [],
   "source": [
    "def lemmatize_stemming(token, tag):\n",
    "    return stemmer.stem(WordNetLemmatizer().lemmatize(token, pos = tag))\n",
    "\n",
    "def get_wordnet_pos(pos_tag):\n",
    "\n",
    "    if pos_tag.startswith('J'):\n",
    "        return wordnet.ADJ\n",
    "    elif pos_tag.startswith('V'):\n",
    "        return wordnet.VERB\n",
    "    elif pos_tag.startswith('N'):\n",
    "        return wordnet.NOUN\n",
    "    elif pos_tag.startswith('R'):\n",
    "        return wordnet.ADV\n",
    "    else:\n",
    "        # default tag is verb\n",
    "        return wordnet.VERB\n",
    "\n",
    "def preprocess_text(text):\n",
    "    result = []\n",
    "    for token, pos_tag in ret_pos_tag(text):\n",
    "        result.append(lemmatize_stemming(token, get_wordnet_pos(pos_tag)))\n",
    "    return result"
   ]
  },
  {
   "cell_type": "code",
   "execution_count": 61,
   "metadata": {},
   "outputs": [
    {
     "data": {
      "application/vnd.jupyter.widget-view+json": {
       "model_id": "4b03af2ab82546a5ae9167bd0910fa32",
       "version_major": 2,
       "version_minor": 0
      },
      "text/plain": [
       "  0%|          | 0/84884 [00:00<?, ?it/s]"
      ]
     },
     "metadata": {},
     "output_type": "display_data"
    },
    {
     "data": {
      "text/plain": [
       "0      [write, databas, generat, script, want, execut...\n",
       "5      [work, collect, class, use, video, playback, r...\n",
       "10              [simpl, connect, queri, databas, record]\n",
       "20     [get, back, .net, few-year, use, full-tim, won...\n",
       "36     [troubl, figur, test, framework, usabl, visual...\n",
       "57     [organ, form, allow, user, updat, email, addre...\n",
       "60     [situat, want, hour, date, date, wrap, around,...\n",
       "68     [.net, system, build, need, autom, e-mail, not...\n",
       "77     [compani, current, work, use, selenium, unitin...\n",
       "82     [even, though, alway, strive, complet, valid, ...\n",
       "101    [play, around, asp.net, framework, thing, real...\n",
       "109    [call, code, dragm, /code, unaccept, drag, vie...\n",
       "113    [difficult, open-end, question, know, think, t...\n",
       "114    [guess, need, someth, like, code, convert, cha...\n",
       "126    [determin, router/gateway, java, easili, enoug...\n",
       "Name: Body, dtype: object"
      ]
     },
     "execution_count": 61,
     "metadata": {},
     "output_type": "execute_result"
    }
   ],
   "source": [
    "processed_docs = df['Body'].progress_apply(preprocess_text)\n",
    "processed_docs[:15]"
   ]
  },
  {
   "cell_type": "markdown",
   "metadata": {},
   "source": [
    "### Feature extraction through bag of words -"
   ]
  },
  {
   "cell_type": "code",
   "execution_count": 62,
   "metadata": {},
   "outputs": [],
   "source": [
    "dictionary = gensim.corpora.Dictionary(processed_docs)\n",
    "bow_corpus = [dictionary.doc2bow(doc) for doc in processed_docs]"
   ]
  },
  {
   "cell_type": "markdown",
   "metadata": {},
   "source": [
    "### Feature extraction through tf-idf -"
   ]
  },
  {
   "cell_type": "code",
   "execution_count": 63,
   "metadata": {},
   "outputs": [],
   "source": [
    "tfidf = gensim.models.TfidfModel(bow_corpus)\n",
    "corpus_tfidf = tfidf[bow_corpus]"
   ]
  },
  {
   "cell_type": "markdown",
   "metadata": {},
   "source": [
    "### Running LDAMultiCore using BoWs -"
   ]
  },
  {
   "cell_type": "code",
   "execution_count": 64,
   "metadata": {},
   "outputs": [
    {
     "name": "stdout",
     "output_type": "stream",
     "text": [
      "Topic : 0 \n",
      " Words 0.050*\"code\" + 0.041*\"/code\" + 0.023*\"/pre\" + 0.011*\"valu\" + 0.010*\"like\" + 0.010*\"user\" + 0.009*\"function\" + 0.009*\"array\" + 0.009*\"data\" + 0.008*\"use\" \n",
      "\n",
      "Topic : 1 \n",
      " Words 0.025*\"code\" + 0.019*\"/code\" + 0.018*\"function\" + 0.017*\"/pre\" + 0.016*\"email\" + 0.014*\"page\" + 0.010*\"messag\" + 0.010*\"html\" + 0.010*\"script\" + 0.008*\"send\" \n",
      "\n",
      "Topic : 2 \n",
      " Words 0.004*\"datagrampacket\" + 0.003*\"song\" + 0.003*\"layout_centerinparent=\" + 0.003*\"dataoutputstream\" + 0.002*\"datainputstream\" + 0.002*\"bytearrayoutputstream\" + 0.002*\"/string\" + 0.002*\"user1\" + 0.002*\"page1\" + 0.002*\"star\" \n",
      "\n",
      "Topic : 3 \n",
      " Words 0.041*\"code\" + 0.035*\"/code\" + 0.020*\"file\" + 0.016*\"date\" + 0.015*\"test\" + 0.015*\"/pre\" + 0.014*\"use\" + 0.012*\"error\" + 0.011*\"nofollow\" + 0.011*\"rel=\" \n",
      "\n",
      "Topic : 4 \n",
      " Words 0.027*\"code\" + 0.023*\"/code\" + 0.022*\"bind\" + 0.020*\"valid\" + 0.014*\"/pre\" + 0.014*\"this-\" + 0.012*\"name=\" + 0.010*\"form\" + 0.010*\"true\" + 0.009*\"width=\" \n",
      "\n",
      "Topic : 5 \n",
      " Words 0.104*\"android\" + 0.015*\"layout_width=\" + 0.015*\"layout_height=\" + 0.015*\"artifactid\" + 0.015*\"/artifactid\" + 0.014*\"groupid\" + 0.014*\"/groupid\" + 0.014*\"info\" + 0.014*\"depend\" + 0.014*\"version\" \n",
      "\n",
      "Topic : 6 \n",
      " Words 0.026*\"code\" + 0.022*\"socket\" + 0.022*\"server\" + 0.020*\"connect\" + 0.018*\"/code\" + 0.018*\"client\" + 0.013*\"send\" + 0.012*\"/pre\" + 0.012*\"data\" + 0.012*\"file\" \n",
      "\n",
      "Topic : 7 \n",
      " Words 0.063*\"class=\" + 0.037*\"/div\" + 0.024*\"input\" + 0.019*\"type=\" + 0.019*\"value=\" + 0.017*\"name=\" + 0.013*\"option\" + 0.013*\"style=\" + 0.012*\"text\" + 0.011*\"label\" \n",
      "\n",
      "Topic : 8 \n",
      " Words 0.025*\"code\" + 0.017*\"/code\" + 0.014*\"self\" + 0.013*\"imag\" + 0.013*\"button\" + 0.012*\"/pre\" + 0.009*\"event\" + 0.009*\"function\" + 0.008*\"import\" + 0.008*\"print\" \n",
      "\n",
      "Topic : 9 \n",
      " Words 0.064*\"public\" + 0.051*\"string\" + 0.038*\"class\" + 0.029*\"return\" + 0.025*\"code\" + 0.024*\"privat\" + 0.023*\"void\" + 0.020*\"/code\" + 0.018*\"/pre\" + 0.012*\"null\" \n",
      "\n"
     ]
    }
   ],
   "source": [
    "lda_bow = gensim.models.LdaMulticore(bow_corpus, num_topics = 10, id2word = dictionary, passes = 2, workers = 2)\n",
    "for idx, topic in lda_bow.print_topics(-1):\n",
    "    print(f\"Topic : {idx} \\n Words {topic} \\n\")"
   ]
  },
  {
   "cell_type": "code",
   "execution_count": 67,
   "metadata": {},
   "outputs": [
    {
     "name": "stdout",
     "output_type": "stream",
     "text": [
      "\n",
      "Coherence Score:  0.5301558862254356\n"
     ]
    }
   ],
   "source": [
    "# Compute Coherence Score\n",
    "from gensim.models import CoherenceModel\n",
    "coherence_model_lda = CoherenceModel(model=lda_bow, texts=processed_docs, dictionary=dictionary, coherence='c_v')\n",
    "coherence_lda = coherence_model_lda.get_coherence()\n",
    "print('\\nCoherence Score: ', coherence_lda)"
   ]
  },
  {
   "cell_type": "markdown",
   "metadata": {},
   "source": [
    "### LDAMultiCore using tf-idf -"
   ]
  },
  {
   "cell_type": "code",
   "execution_count": 68,
   "metadata": {},
   "outputs": [
    {
     "name": "stdout",
     "output_type": "stream",
     "text": [
      "Topic : 0 \n",
      " Words 0.001*\"exclus\" + 0.000*\"kwarg\" + 0.000*\"_request\" + 0.000*\"/exclus\" + 0.000*\"bill\" + 0.000*\"slug\" + 0.000*\"checkout\" + 0.000*\"data2\" + 0.000*\"fibonacci\" + 0.000*\"end=\" \n",
      "\n",
      "Topic : 1 \n",
      " Words 0.003*\"file\" + 0.003*\"function\" + 0.003*\"test\" + 0.003*\"string\" + 0.003*\"class\" + 0.003*\"date\" + 0.003*\"public\" + 0.003*\"error\" + 0.003*\"use\" + 0.003*\"code\" \n",
      "\n",
      "Topic : 2 \n",
      " Words 0.000*\"xcode\" + 0.000*\"spinner\" + 0.000*\"redi\" + 0.000*\":cout\" + 0.000*\"remotetestr\" + 0.000*\":endl\" + 0.000*\"sensor\" + 0.000*\"grep\" + 0.000*\"/param-nam\" + 0.000*\"param-valu\" \n",
      "\n",
      "Topic : 3 \n",
      " Words 0.018*\"android\" + 0.004*\"layout_width=\" + 0.004*\"layout_height=\" + 0.003*\"wrap_cont\" + 0.003*\"match_par\" + 0.002*\"textview\" + 0.001*\"linearlayout\" + 0.001*\"fill_par\" + 0.001*\"android=\" + 0.001*\"layout\" \n",
      "\n",
      "Topic : 4 \n",
      " Words 0.001*\"property=\" + 0.001*\"setter\" + 0.001*\"targettype=\" + 0.001*\"drawer\" + 0.001*\"templatebind\" + 0.001*\"nexus\" + 0.000*\"/setter\" + 0.000*\"margin=\" + 0.000*\"staticresourc\" + 0.000*\"columndefinit\" \n",
      "\n",
      "Topic : 5 \n",
      " Words 0.001*\"mail-\" + 0.000*\"octob\" + 0.000*\"juli\" + 0.000*\"sonar\" + 0.000*\"worksheet\" + 0.000*\"list1\" + 0.000*\"march\" + 0.000*\"admob\" + 0.000*\"no-cach\" + 0.000*\".cell\" \n",
      "\n",
      "Topic : 6 \n",
      " Words 0.001*\"someclass\" + 0.001*\"python3\" + 0.000*\"startdat\" + 0.000*\"00:00:00.000\" + 0.000*\"data1\" + 0.000*\"email-\" + 0.000*\"updated_at\" + 0.000*\"created_at\" + 0.000*\"surnam\" + 0.000*\"mass\" \n",
      "\n",
      "Topic : 7 \n",
      " Words 0.000*\"/modul\" + 0.000*\"osgi\" + 0.000*\"analyt\" + 0.000*\"mynam\" + 0.000*\"flask\" + 0.000*\"treemap\" + 0.000*\"wifi\" + 0.000*\"datagrampacket\" + 0.000*\"/welcome-fil\" + 0.000*\"welcome-fil\" \n",
      "\n",
      "Topic : 8 \n",
      " Words 0.001*\"form-\" + 0.001*\"datafram\" + 0.000*\"user-\" + 0.000*\"builder-\" + 0.000*\"tkinter\" + 0.000*\"uses-permiss\" + 0.000*\"buildform\" + 0.000*\"triangl\" + 0.000*\"appengin\" + 0.000*\"form_widget\" \n",
      "\n",
      "Topic : 9 \n",
      " Words 0.001*\"/label\" + 0.001*\"checkbox\" + 0.001*\"for=\" + 0.001*\"stylesheet\" + 0.001*\"sentenc\" + 0.001*\"gradl\" + 0.001*\"decim\" + 0.001*\"router\" + 0.001*\"bootstrap\" + 0.001*\"quantiti\" \n",
      "\n"
     ]
    }
   ],
   "source": [
    "lda_tfidf = gensim.models.LdaMulticore(corpus_tfidf, num_topics = 10, id2word = dictionary, passes = 2, workers = 4)\n",
    "for idx, topic in lda_tfidf.print_topics(-1):\n",
    "    print(f\"Topic : {idx} \\n Words {topic} \\n\")"
   ]
  },
  {
   "cell_type": "code",
   "execution_count": 69,
   "metadata": {},
   "outputs": [
    {
     "name": "stdout",
     "output_type": "stream",
     "text": [
      "\n",
      "Coherence Score:  0.6284672565847597\n"
     ]
    }
   ],
   "source": [
    "# Compute Coherence Score\n",
    "coherence_model_lda = CoherenceModel(model=lda_tfidf, texts=processed_docs, dictionary=dictionary, coherence='c_v')\n",
    "coherence_lda = coherence_model_lda.get_coherence()\n",
    "print('\\nCoherence Score: ', coherence_lda)"
   ]
  },
  {
   "cell_type": "markdown",
   "metadata": {},
   "source": [
    "### Model using tf-idf performs better than model using BoWs, trying to improve it further by increasing number of passes as well as the chunksize -"
   ]
  },
  {
   "cell_type": "code",
   "execution_count": 70,
   "metadata": {},
   "outputs": [
    {
     "name": "stdout",
     "output_type": "stream",
     "text": [
      "Topic : 0 \n",
      " Words 0.003*\"file\" + 0.003*\"function\" + 0.003*\"test\" + 0.003*\"class\" + 0.003*\"string\" + 0.003*\"date\" + 0.003*\"public\" + 0.003*\"use\" + 0.003*\"error\" + 0.003*\"code\" \n",
      "\n",
      "Topic : 1 \n",
      " Words 0.000*\"jsonobject\" + 0.000*\"_request\" + 0.000*\"ssis\" + 0.000*\"appoint\" + 0.000*\"xamarin\" + 0.000*\"subprocess\" + 0.000*\"jsonarray\" + 0.000*\"/login\" + 0.000*\"appengin\" + 0.000*\"âââ\" \n",
      "\n",
      "Topic : 2 \n",
      " Words 0.000*\"class1\" + 0.000*\"container-\" + 0.000*\"devtool\" + 0.000*\"class2\" + 0.000*\"meter\" + 0.000*\"event-\" + 0.000*\"serv_addr\" + 0.000*\"voic\" + 0.000*\"a_list\" + 0.000*\"email_messag\" \n",
      "\n",
      "Topic : 3 \n",
      " Words 0.001*\"numpi\" + 0.000*\"grep\" + 0.000*\"datef\" + 0.000*\"num\" + 0.000*\"end=\" + 0.000*\"monster\" + 0.000*\"india\" + 0.000*\"app-\" + 0.000*\"dept\" + 0.000*\"array1\" \n",
      "\n",
      "Topic : 4 \n",
      " Words 0.004*\"artifactid\" + 0.004*\"/artifactid\" + 0.004*\"groupid\" + 0.004*\"/groupid\" + 0.004*\"/version\" + 0.003*\"/depend\" + 0.002*\"depend\" + 0.002*\"version\" + 0.002*\"/plugin\" + 0.001*\"/goal\" \n",
      "\n",
      "Topic : 5 \n",
      " Words 0.001*\"datafram\" + 0.000*\"num1\" + 0.000*\"nodej\" + 0.000*\"num2\" + 0.000*\"pygam\" + 0.000*\"virtualenv\" + 0.000*\"tableview\" + 0.000*\"rewriterul\" + 0.000*\"rewritecond\" + 0.000*\"admob\" \n",
      "\n",
      "Topic : 6 \n",
      " Words 0.019*\"android\" + 0.004*\"layout_width=\" + 0.004*\"layout_height=\" + 0.004*\"wrap_cont\" + 0.003*\"match_par\" + 0.002*\"textview\" + 0.001*\"linearlayout\" + 0.001*\"fill_par\" + 0.001*\"mail-\" + 0.001*\"android=\" \n",
      "\n",
      "Topic : 7 \n",
      " Words 0.003*\"bind\" + 0.002*\"textblock\" + 0.002*\"margin=\" + 0.002*\"property=\" + 0.002*\"width=\" + 0.001*\"height=\" + 0.001*\"staticresourc\" + 0.001*\"setter\" + 0.001*\"horizontalalignment=\" + 0.001*\"binding=\" \n",
      "\n",
      "Topic : 8 \n",
      " Words 0.000*\"formbuilderinterfac\" + 0.000*\"purchas\" + 0.000*\"licens\" + 0.000*\"buildform\" + 0.000*\"applicationfilterc\" + 0.000*\"logo\" + 0.000*\"test1\" + 0.000*\"importerror\" + 0.000*\"surnam\" + 0.000*\"sudo\" \n",
      "\n",
      "Topic : 9 \n",
      " Words 0.001*\"orm\\column\" + 0.001*\"gradl\" + 0.000*\"orm\\ent\" + 0.000*\"role_admin\" + 0.000*\"orm\\tabl\" + 0.000*\"orm\\id\" + 0.000*\"orm\\generatedvalu\" + 0.000*\"strategy=\" + 0.000*\"role_us\" + 0.000*\"beautifulsoup\" \n",
      "\n"
     ]
    }
   ],
   "source": [
    "lda_tfidf = gensim.models.LdaMulticore(corpus_tfidf, num_topics = 10, id2word = dictionary, passes = 15, workers = 4, chunksize=3500)\n",
    "for idx, topic in lda_tfidf.print_topics(-1):\n",
    "    print(f\"Topic : {idx} \\n Words {topic} \\n\")"
   ]
  },
  {
   "cell_type": "code",
   "execution_count": 71,
   "metadata": {},
   "outputs": [
    {
     "name": "stdout",
     "output_type": "stream",
     "text": [
      "\n",
      "Coherence Score:  0.6586287553669228\n"
     ]
    }
   ],
   "source": [
    "# Compute Coherence Score\n",
    "coherence_model_lda = CoherenceModel(model=lda_tfidf, texts=processed_docs, dictionary=dictionary, coherence='c_v')\n",
    "coherence_lda = coherence_model_lda.get_coherence()\n",
    "print('\\nCoherence Score: ', coherence_lda)"
   ]
  },
  {
   "cell_type": "markdown",
   "metadata": {},
   "source": [
    "#### So, Coherence increased from 0.628 to 0.658 !"
   ]
  },
  {
   "cell_type": "markdown",
   "metadata": {},
   "source": [
    "### Trying LDAMallet model with BoWs -"
   ]
  },
  {
   "cell_type": "code",
   "execution_count": 74,
   "metadata": {},
   "outputs": [
    {
     "name": "stderr",
     "output_type": "stream",
     "text": [
      "'wget' is not recognized as an internal or external command,\n",
      "operable program or batch file.\n",
      "'unzip' is not recognized as an internal or external command,\n",
      "operable program or batch file.\n"
     ]
    }
   ],
   "source": [
    "#!wget http://mallet.cs.umass.edu/dist/mallet-2.0.8.zip\n",
    "#!unzip mallet-2.0.8.zip"
   ]
  },
  {
   "cell_type": "code",
   "execution_count": 83,
   "metadata": {},
   "outputs": [],
   "source": [
    "#mallet_path = r\"mallet-2.0.8/mallet-2.0.8/bin/mallet.bat\"\n",
    "import os\n",
    "os.environ.update({'MALLET_HOME': r'C:/new_mallet/mallet-2.0.8/'})\n",
    "mallet_path = 'C:/new_mallet/mallet-2.0.8/bin/mallet'  # update this path"
   ]
  },
  {
   "cell_type": "code",
   "execution_count": 84,
   "metadata": {},
   "outputs": [
    {
     "name": "stdout",
     "output_type": "stream",
     "text": [
      "[(0,\n",
      "  [('this-', 0.018695488878687976),\n",
      "   ('user', 0.01734618648193743),\n",
      "   ('function', 0.01724185897703404),\n",
      "   ('code', 0.016078955055710886),\n",
      "   ('/pre', 0.015654689869103757),\n",
      "   ('name=', 0.01467679338980929),\n",
      "   ('bind', 0.01442918944483857),\n",
      "   ('array', 0.01265283979468347),\n",
      "   ('/code', 0.012430274450889565),\n",
      "   ('control', 0.011477416572771912)]),\n",
      " (1,\n",
      "  [('function', 0.020805465084719477),\n",
      "   ('number', 0.016425303400410995),\n",
      "   ('array', 0.016224167345197937),\n",
      "   ('print', 0.01617933581481912),\n",
      "   ('line', 0.015548059400566088),\n",
      "   ('sort', 0.012334729169089993),\n",
      "   ('file', 0.012083914931565274),\n",
      "   ('list', 0.010526927998138886),\n",
      "   ('loop', 0.010010759567290915),\n",
      "   ('event', 0.008135105269279982)]),\n",
      " (2,\n",
      "  [('date', 0.03024064164119328),\n",
      "   ('select', 0.025604354442846627),\n",
      "   ('valu', 0.021581000128349195),\n",
      "   ('tabl', 0.019941273695487607),\n",
      "   ('data', 0.015851125412878402),\n",
      "   ('/pre', 0.015339038324021469),\n",
      "   ('time', 0.012855874333042583),\n",
      "   ('column', 0.012296638560812635),\n",
      "   ('queri', 0.01152916277035186),\n",
      "   ('order', 0.010865152146181873)]),\n",
      " (3,\n",
      "  [('android', 0.11730065528773843),\n",
      "   ('layout_width=', 0.01738895241257225),\n",
      "   ('layout_height=', 0.017371779551988688),\n",
      "   ('view', 0.015664510995639525),\n",
      "   ('wrap_cont', 0.015558611688707556),\n",
      "   ('true', 0.014249181069210921),\n",
      "   ('button', 0.011773427001747338),\n",
      "   ('activ', 0.00970695944485866),\n",
      "   ('imag', 0.009333449727166177),\n",
      "   ('match_par', 0.009257602926255444)]),\n",
      " (4,\n",
      "  [('class=', 0.023797442884824837),\n",
      "   ('function', 0.02253878757922639),\n",
      "   ('input', 0.017656167301644234),\n",
      "   ('form', 0.01592948030986322),\n",
      "   ('valid', 0.014857818972342389),\n",
      "   ('page', 0.014417125585586374),\n",
      "   ('type=', 0.013771941719119751),\n",
      "   ('/div', 0.013764286995280315),\n",
      "   ('text', 0.011645022023734018),\n",
      "   ('value=', 0.011347581325973135)]),\n",
      " (5,\n",
      "  [('test', 0.02945547194131857),\n",
      "   ('servic', 0.021264831480992057),\n",
      "   ('applic', 0.013259656980706903),\n",
      "   ('work', 0.012183954412467023),\n",
      "   ('call', 0.008880341999230316),\n",
      "   ('window', 0.008042267692293426),\n",
      "   ('creat', 0.007366476100392724),\n",
      "   ('make', 0.007007135802812591),\n",
      "   ('solut', 0.0067868949752634775),\n",
      "   ('find', 0.006725459375999778)]),\n",
      " (6,\n",
      "  [('public', 0.06398705754372264),\n",
      "   ('string', 0.0630496026428224),\n",
      "   ('class', 0.05995345469715841),\n",
      "   ('return', 0.04023173206010869),\n",
      "   ('void', 0.02668896507646988),\n",
      "   ('object', 0.024629717441633427),\n",
      "   ('privat', 0.022323069030880226),\n",
      "   ('method', 0.01971687164144351),\n",
      "   ('code', 0.01935911071548547),\n",
      "   ('/pre', 0.018587802414097965)]),\n",
      " (7,\n",
      "  [('server', 0.028951292564334073),\n",
      "   ('send', 0.02183304473267565),\n",
      "   ('messag', 0.020918645307660237),\n",
      "   ('connect', 0.019155069353679468),\n",
      "   ('client', 0.01829566178219645),\n",
      "   ('data', 0.018036049078310957),\n",
      "   ('socket', 0.016821112779339432),\n",
      "   ('error', 0.016480930615627404),\n",
      "   ('file', 0.014970572963958595),\n",
      "   ('email', 0.01414825292160208)]),\n",
      " (8,\n",
      "  [('error', 0.024625206338295867),\n",
      "   ('file', 0.023644936705565014),\n",
      "   ('version', 0.021368055447070648),\n",
      "   ('project', 0.019341123417639126),\n",
      "   ('depend', 0.018942766833820214),\n",
      "   ('info', 0.017269929545561058),\n",
      "   ('artifactid', 0.01386827675628388),\n",
      "   ('/artifactid', 0.01368732392899359),\n",
      "   ('groupid', 0.013348851014637652),\n",
      "   ('/groupid', 0.013049432667322784)]),\n",
      " (9,\n",
      "  [('code', 0.22823482356806404),\n",
      "   ('/code', 0.19326745779215754),\n",
      "   ('/pre', 0.07101321439072267),\n",
      "   ('strong', 0.032728263987839096),\n",
      "   ('/strong', 0.03240567143889371),\n",
      "   ('work', 0.019271036069656182),\n",
      "   ('nofollow', 0.0175557007817215),\n",
      "   ('rel=', 0.016381987670060435),\n",
      "   ('tri', 0.016258188315483608),\n",
      "   ('href=', 0.015128519204970069)])]\n"
     ]
    }
   ],
   "source": [
    "ldamallet_bow = gensim.models.wrappers.LdaMallet(mallet_path, corpus=bow_corpus, num_topics=10, id2word=dictionary)\n",
    "from pprint import pprint\n",
    "pprint(ldamallet_bow.show_topics(formatted=False))"
   ]
  },
  {
   "cell_type": "code",
   "execution_count": 85,
   "metadata": {},
   "outputs": [
    {
     "name": "stdout",
     "output_type": "stream",
     "text": [
      "\n",
      "Coherence Score:  0.6183907127887048\n"
     ]
    }
   ],
   "source": [
    "# Compute Coherence Score\n",
    "coherence_model_lda = CoherenceModel(model=ldamallet_bow, texts=processed_docs, dictionary=dictionary, coherence='c_v')\n",
    "coherence_lda = coherence_model_lda.get_coherence()\n",
    "print('\\nCoherence Score: ', coherence_lda)"
   ]
  },
  {
   "cell_type": "markdown",
   "metadata": {},
   "source": [
    "### LDAMallet using BoWs beats LDAMultiCore using BoWs (from 0.53 to 0.62) !"
   ]
  },
  {
   "cell_type": "markdown",
   "metadata": {},
   "source": [
    "### LDAMallet model with tf-idf -"
   ]
  },
  {
   "cell_type": "code",
   "execution_count": 86,
   "metadata": {},
   "outputs": [
    {
     "name": "stdout",
     "output_type": "stream",
     "text": [
      "[(0,\n",
      "  [('idiomat', 1.0),\n",
      "   ('107l', 0.0),\n",
      "   ('109l', 0.0),\n",
      "   ('102l', 0.0),\n",
      "   ('104l', 0.0),\n",
      "   ('105l', 0.0),\n",
      "   ('106l', 0.0),\n",
      "   ('100l', 0.0),\n",
      "   ('108l', 0.0),\n",
      "   ('11/30/2007', 0.0)]),\n",
      " (1,\n",
      "  [('109l', nan),\n",
      "   ('11/30/2006', nan),\n",
      "   ('104l', nan),\n",
      "   ('105l', nan),\n",
      "   ('106l', nan),\n",
      "   ('107l', nan),\n",
      "   ('108l', nan),\n",
      "   ('101l', nan),\n",
      "   ('11/30/2005', nan),\n",
      "   ('11/30/2009', nan)]),\n",
      " (2,\n",
      "  [('tabbar', 0.5),\n",
      "   ('add', 0.5),\n",
      "   ('108l', 0.0),\n",
      "   ('102l', 0.0),\n",
      "   ('104l', 0.0),\n",
      "   ('105l', 0.0),\n",
      "   ('106l', 0.0),\n",
      "   ('107l', 0.0),\n",
      "   ('100l', 0.0),\n",
      "   ('11/30/2006', 0.0)]),\n",
      " (3,\n",
      "  [('109l', nan),\n",
      "   ('11/30/2006', nan),\n",
      "   ('104l', nan),\n",
      "   ('105l', nan),\n",
      "   ('106l', nan),\n",
      "   ('107l', nan),\n",
      "   ('108l', nan),\n",
      "   ('101l', nan),\n",
      "   ('11/30/2005', nan),\n",
      "   ('11/30/2009', nan)]),\n",
      " (4,\n",
      "  [('109l', nan),\n",
      "   ('11/30/2006', nan),\n",
      "   ('104l', nan),\n",
      "   ('105l', nan),\n",
      "   ('106l', nan),\n",
      "   ('107l', nan),\n",
      "   ('108l', nan),\n",
      "   ('101l', nan),\n",
      "   ('11/30/2005', nan),\n",
      "   ('11/30/2009', nan)]),\n",
      " (5,\n",
      "  [('109l', nan),\n",
      "   ('11/30/2006', nan),\n",
      "   ('104l', nan),\n",
      "   ('105l', nan),\n",
      "   ('106l', nan),\n",
      "   ('107l', nan),\n",
      "   ('108l', nan),\n",
      "   ('101l', nan),\n",
      "   ('11/30/2005', nan),\n",
      "   ('11/30/2009', nan)]),\n",
      " (6,\n",
      "  [('convert', 1.0),\n",
      "   ('11/30/2005', 0.0),\n",
      "   ('11/30/2007', 0.0),\n",
      "   ('105l', 0.0),\n",
      "   ('106l', 0.0),\n",
      "   ('107l', 0.0),\n",
      "   ('108l', 0.0),\n",
      "   ('109l', 0.0),\n",
      "   ('102l', 0.0),\n",
      "   ('11/30/2006', 0.0)]),\n",
      " (7,\n",
      "  [('109l', nan),\n",
      "   ('11/30/2006', nan),\n",
      "   ('104l', nan),\n",
      "   ('105l', nan),\n",
      "   ('106l', nan),\n",
      "   ('107l', nan),\n",
      "   ('108l', nan),\n",
      "   ('101l', nan),\n",
      "   ('11/30/2005', nan),\n",
      "   ('11/30/2009', nan)]),\n",
      " (8,\n",
      "  [('109l', nan),\n",
      "   ('11/30/2006', nan),\n",
      "   ('104l', nan),\n",
      "   ('105l', nan),\n",
      "   ('106l', nan),\n",
      "   ('107l', nan),\n",
      "   ('108l', nan),\n",
      "   ('101l', nan),\n",
      "   ('11/30/2005', nan),\n",
      "   ('11/30/2009', nan)]),\n",
      " (9,\n",
      "  [('debug', 1.0),\n",
      "   ('108l', 0.0),\n",
      "   ('109l', 0.0),\n",
      "   ('102l', 0.0),\n",
      "   ('104l', 0.0),\n",
      "   ('105l', 0.0),\n",
      "   ('106l', 0.0),\n",
      "   ('107l', 0.0),\n",
      "   ('100l', 0.0),\n",
      "   ('11/30/2007', 0.0)])]\n"
     ]
    },
    {
     "name": "stderr",
     "output_type": "stream",
     "text": [
      "C:\\anaconda3\\lib\\site-packages\\gensim\\models\\wrappers\\ldamallet.py:448: RuntimeWarning: invalid value encountered in true_divide\n",
      "  topic = topic / topic.sum()  # normalize to probability dist\n"
     ]
    }
   ],
   "source": [
    "ldamallet_tfidf = gensim.models.wrappers.LdaMallet(mallet_path, corpus=corpus_tfidf, num_topics=10, id2word=dictionary)\n",
    "from pprint import pprint\n",
    "pprint(ldamallet_tfidf.show_topics(formatted=False))"
   ]
  },
  {
   "cell_type": "code",
   "execution_count": 87,
   "metadata": {},
   "outputs": [
    {
     "name": "stderr",
     "output_type": "stream",
     "text": [
      "C:\\anaconda3\\lib\\site-packages\\gensim\\models\\wrappers\\ldamallet.py:379: RuntimeWarning: invalid value encountered in true_divide\n",
      "  return topics / topics.sum(axis=1)[:, None]\n"
     ]
    },
    {
     "name": "stdout",
     "output_type": "stream",
     "text": [
      "\n",
      "Coherence Score:  0.4091275800211858\n"
     ]
    }
   ],
   "source": [
    "# Compute Coherence Score\n",
    "coherence_model_lda = CoherenceModel(model=ldamallet_tfidf, texts=processed_docs, dictionary=dictionary, coherence='c_v')\n",
    "coherence_lda = coherence_model_lda.get_coherence()\n",
    "print('\\nCoherence Score: ', coherence_lda)"
   ]
  },
  {
   "cell_type": "markdown",
   "metadata": {},
   "source": [
    "### So the best model is LDAMultiCore model using tf-idf . Visualizing it through pyldaviz - "
   ]
  },
  {
   "cell_type": "code",
   "execution_count": 95,
   "metadata": {},
   "outputs": [],
   "source": [
    "from pyLDAvis import gensim_models\n",
    "import pyLDAvis"
   ]
  },
  {
   "cell_type": "code",
   "execution_count": 96,
   "metadata": {},
   "outputs": [
    {
     "data": {
      "text/html": [
       "\n",
       "<link rel=\"stylesheet\" type=\"text/css\" href=\"https://cdn.jsdelivr.net/gh/bmabey/pyLDAvis@3.3.1/pyLDAvis/js/ldavis.v1.0.0.css\">\n",
       "\n",
       "\n",
       "<div id=\"ldavis_el3718022913550598089300002809\"></div>\n",
       "<script type=\"text/javascript\">\n",
       "\n",
       "var ldavis_el3718022913550598089300002809_data = {\"mdsDat\": {\"x\": [-0.3765240272055266, 0.03940595076971796, 0.044356375112008066, 0.03995120003492365, 0.044718651857566634, 0.04175209368935751, 0.041694574569893644, 0.04161034778635922, 0.04159112540286209, 0.04144370798283767], \"y\": [0.0005261689827245449, -0.02487925930928453, 0.04692966590388693, -0.02204934976565863, -8.939910167518512e-05, -0.00015485334442066009, -6.263098775058704e-05, -7.169222101136087e-05, -4.997179685329557e-05, -9.86783599576269e-05], \"topics\": [1, 2, 3, 4, 5, 6, 7, 8, 9, 10], \"cluster\": [1, 1, 1, 1, 1, 1, 1, 1, 1, 1], \"Freq\": [71.29912313040904, 4.537963754980896, 4.526062018968596, 4.2353466463575495, 3.0786705906696485, 2.4883476559763436, 2.476573678618807, 2.4618432046307706, 2.4611069482440784, 2.434962371144274]}, \"tinfo\": {\"Term\": [\"android\", \"bind\", \"depend\", \"version\", \"file\", \"plugin\", \"name=\", \"function\", \"test\", \"class\", \"string\", \"date\", \"layout\", \"public\", \"artifactid\", \"use\", \"/artifactid\", \"width=\", \"error\", \"groupid\", \"code\", \"want\", \"data\", \"email\", \"layout_width=\", \"/code\", \"layout_height=\", \"user\", \"/groupid\", \"like\", \"file\", \"function\", \"test\", \"class\", \"string\", \"date\", \"public\", \"use\", \"error\", \"code\", \"want\", \"data\", \"email\", \"/code\", \"user\", \"like\", \"valu\", \"name\", \"return\", \"work\", \"server\", \"strong\", \"/strong\", \"array\", \"would\", \"href=\", \"project\", \"need\", \"creat\", \"tri\", \"imag\", \"margin=\", \"horizontalalignment=\", \"verticalalignment=\", \"/grid\", \"grid.row=\", \"grid.column=\", \"targettype=\", \"/behavior\", \"columndefinit\", \"/datatempl\", \"contract=\", \"rowdefinit\", \"/stackpanel\", \"2147483647\", \"fontsize=\", \"templatebind\", \"bindingconfiguration=\", \"dataoutputstream\", \"textwrapping=\", \"borderthickness=\", \"behaviorconfiguration=\", \"borderbrush=\", \"relativesourc\", \"/setter\", \"/border\", \"relativesource=\", \"controltempl\", \"converter=\", \"/textblock\", \"servicemetadata\", \"binding=\", \"datatempl\", \"stackpanel\", \"/bind\", \"staticresourc\", \"header=\", \"foreground=\", \"textblock\", \"itemssource=\", \"property=\", \"setter\", \"bind\", \"height=\", \"width=\", \"/servic\", \"text=\", \"grid\", \"address=\", \"name=\", \"artifactid\", \"/artifactid\", \"/groupid\", \"/version\", \"/depend\", \"/plugin\", \"/goal\", \"/execut\", \"2015\", \"2016\", \"/scope\", \"2014\", \"/phase\", \"enddat\", \"modelandview\", \"/servlet-nam\", \"servlet-nam\", \"/build\", \"markeropt\", \"boot\", \"4.0.0\", \"/modelvers\", \"modelvers\", \"/repositori\", \"datediff\", \"date1\", \"sonata\", \"draggabl\", \"url-pattern\", \"/exclus\", \"groupid\", \"sentenc\", \"/includ\", \"tkinter\", \"/configur\", \"nexus\", \"depend\", \"version\", \"goal\", \"schemalocation=\", \"plugin\", \"phase\", \"xsi=\", \"/properti\", \"layout_width=\", \"layout_height=\", \"wrap_cont\", \"match_par\", \"fill_par\", \"mail-\", \"android=\", \"/linearlayout\", \"e/androidruntim\", \"layout_weight=\", \"10dp\", \"gravity=\", \"layout_gravity=\", \"textsize=\", \"uses-permiss\", \"recyclerview\", \"/relativelayout\", \"layout_margintop=\", \"log.d\", \"activityt\", \"mainact\", \"layoutinflat\", \"layout_below=\", \"layouti\", \"tools=\", \"viewpag\", \"getact\", \"locationmanag\", \"layout_marginleft=\", \"room\", \"textcolor=\", \"android\", \"linearlayout\", \"orientation=\", \"textview\", \"relativelayout\", \"googlemap\", \"background=\", \"imageview\", \"savedinstancest\", \"xmlns\", \"text=\", \"fragment\", \"layout\", \"vertic\", \"edittext\", \"findviewbyid\", \"formbuilderinterfac\", \"purchas\", \"buildform\", \"applicationfilterc\", \"sudo\", \"slug\", \"uninstal\", \"abstracttyp\", \"\\\\datetim\", \"webdriv\", \"mocha\", \"checkout\", \"mailchimp\", \"applet\", \"reinstal\", \"printer\", \"__init__.pi\", \"matplotlib\", \"fusion\", \"promis\", \"phrase\", \"test_\", \"myfunct\", \"jack\", \"nginx\", \"analyt\", \"message-\", \"portlet\", \"sendgrid\", \"tail\", \"surnam\", \"dashboard\", \"importerror\", \"test1\", \"logo\", \"partit\", \"licens\", \"sendmail\", \"filesystem\", \"galleri\", \"banner\", \"gradl\", \"orm\\\\ent\", \"role_admin\", \"orm\\\\tabl\", \"orm\\\\id\", \"orm\\\\generatedvalu\", \"strategy=\", \"role_us\", \"beautifulsoup\", \"is_authenticated_anonym\", \"nullable=tru\", \"orm\\\\column\", \"list2\", \"doctrine\\\\orm\\\\map\", \"rgba\", \"vowel\", \"access_control\", \"securitycontext\", \"datetimepick\", \"orm\\\\onetomani\", \"testb\", \"role_super_admin\", \"fos_userbundl\", \"/admin\", \"portfolio\", \"webapi\", \".msg\", \"solr\", \"checkstyl\", \"type1\", \"nullable=fals\", \"orm\\\\joincolumn\", \"referencedcolumnname=\", \"inversedby=\", \"mappedby=\", \"_request\", \"ssis\", \"appoint\", \"subprocess\", \"jsonarray\", \"/login\", \"appengin\", \"\\u00e2\\u0094\\u009c\\u00e2\\u0094\\u0080\\u00e2\\u0094\\u0080\", \"login_path\", \"propel\", \"fibonacci\", \"table_nam\", \"locald\", \"heroku\", \"userinput\", \"hbase\", \"\\u00e2\\u0094\\u0082\\u00e2\", \"\\u00e2\\u0094\\u0094\\u00e2\\u0094\\u0080\\u00e2\\u0094\\u0080\", \"check_path\", \"subprocess.popen\", \"00:00\", \"column_nam\", \"rownum\", \"aclass\", \"sortable=\", \"canari\", \"textbox1\", \"geojson\", \"crawler\", \"denomin\", \"xamarin\", \"jsonobject\", \"numpi\", \"grep\", \"datef\", \"num\", \"end=\", \"monster\", \"india\", \"app-\", \"dept\", \"array1\", \"median\", \"__dir__\", \"server_\", \"temp1\", \"array2\", \"codec\", \"treenod\", \"num_i\", \"gregoriancalendar\", \"pvalu\", \"robolectr\", \".gettim\", \"complianc\", \"myid\", \"time1\", \"mycustomcontrol\", \".item\", \"newlist\", \"outputtext\", \"highscor\", \"pager\", \"facet\", \"datafram\", \"num1\", \"nodej\", \"num2\", \"pygam\", \"virtualenv\", \"tableview\", \"rewriterul\", \"rewritecond\", \"admob\", \"long_nam\", \"python2\", \"datagridtemplatecolumn\", \"callabl\", \"hierarchicaldatatempl\", \"compass\", \"datagridtemplatecolumn.celltempl\", \"string2\", \"anarray\", \"string1\", \"1111\", \"cor\", \"access-control-allow-origin\", \"/datagridtemplatecolumn\", \"row=0\", \"/datagridtemplatecolumn.celltempl\", \"loopcount\", \"num3\", \"column=1\", \".htaccess\", \"short_nam\", \"class1\", \"devtool\", \"class2\", \"container-\", \"meter\", \"event-\", \"serv_addr\", \"voic\", \"a_list\", \"email_messag\", \"arr1\", \"row-\", \"arr2\", \"palindrom\", \"method1\", \"method2\", \"sonataadminbundl\", \":newinst\", \"vbcrlf\", \"error_messag\", \"email_bodi\", \"logfil\", \"leftjoin\", \"email_from\", \"soup\", \"email_subject\", \"self.a\", \"httpurlconnect\", \"memcach\", \"level1\", \"new-object\", \"fos_\"], \"Freq\": [641.0, 263.0, 353.0, 380.0, 1054.0, 242.0, 491.0, 980.0, 969.0, 954.0, 925.0, 904.0, 215.0, 859.0, 83.0, 817.0, 82.0, 114.0, 809.0, 82.0, 797.0, 787.0, 786.0, 782.0, 76.0, 775.0, 76.0, 774.0, 77.0, 768.0, 1054.1342051976867, 980.4345420185988, 969.3035081392655, 954.7444743763459, 925.6041410478391, 904.6819718335671, 859.6541982249296, 817.4991441114191, 809.7693911524715, 797.7167685182135, 787.1864803598834, 786.1116885175722, 782.1616632991877, 775.6831766249836, 774.0727844907642, 768.346020044683, 755.8513853148901, 746.9893803777151, 744.8409458958109, 724.9967288313255, 719.8124598934625, 716.5266738462684, 713.5811954540376, 691.4794414745774, 684.0515697046991, 678.6095920572521, 693.6983364481487, 670.1355148626809, 656.8476429565659, 650.7169337549942, 652.4623572086166, 31.988617594091973, 22.80117892625083, 21.16544963063659, 18.79692342090807, 17.86703551415245, 17.49135416665653, 15.816119586487376, 15.567133550565755, 15.312318922309533, 14.64837939803046, 14.531736693941484, 13.546695446504419, 13.531945679314159, 12.062973553254018, 10.834130288489396, 8.909690243040139, 8.106101075007816, 7.897119754003896, 7.7777187543071635, 7.728499149194585, 7.719280830415983, 7.419833470642264, 7.347817783764574, 7.200805256459235, 7.084896840718294, 7.013265726648563, 6.9886313525755694, 6.841067394720927, 6.670290782178436, 6.6438444016061275, 21.723401346186577, 19.67493685588576, 18.08371400562177, 12.900226842032994, 27.10547550778257, 14.579400864903594, 10.083736739830842, 32.56074078904373, 13.418098413823305, 30.49291622930211, 25.40173911109723, 60.078972063015236, 27.54888966965149, 29.64442404306854, 11.189419562842916, 18.975566347379782, 20.78278768667406, 12.38433242019148, 18.0585562010999, 83.70504503240163, 81.92846234652541, 77.48638554589759, 69.0422285116779, 60.902702372500535, 32.41206064011987, 28.32640330893363, 24.877954949834958, 21.294831676238918, 21.180904563634748, 15.43825336294546, 12.55978822534348, 10.45680324478973, 10.255216042261692, 9.182588196380838, 9.021757395929061, 9.021757395929061, 8.976606248758895, 8.584731884031802, 8.188278116266256, 8.018521041964044, 7.711761451172055, 7.711761451172055, 7.367812662238797, 6.907571543201733, 6.639591260629083, 6.638424609973239, 6.614688085051587, 6.305991865569535, 6.149876111954985, 78.10975429105474, 11.705072712125506, 7.764024778867031, 8.656876147158059, 19.653021933151607, 9.5883660504823, 41.372142852501185, 34.66431763170127, 21.121807182195642, 10.05036540951608, 22.88364230951269, 11.103805927121572, 9.721705044541316, 8.761595439539546, 76.03162143103614, 75.93575103817571, 65.47551892338181, 57.02916238197698, 23.580349240154877, 21.70570973265845, 19.938287627804932, 16.443521679572505, 12.635478849676812, 11.749396636999398, 10.25398170564089, 10.08326456748655, 9.640125329459558, 9.594393829420637, 9.588262732200326, 9.540973924934255, 9.392507080450017, 8.533649478054905, 8.434372208972887, 8.002194920516729, 7.672524713665747, 7.3143600511530655, 6.742654435036995, 6.584547218827427, 6.477072220502765, 6.473051487904997, 6.423736047946061, 6.361080564948529, 6.080649532668304, 12.912962198037702, 9.40671590892458, 353.19608447094805, 27.28600658640697, 15.919813125516221, 33.411544433249084, 15.736911658282613, 10.680214560414234, 16.539210742139364, 18.182733057341324, 15.795242413778446, 18.512378731270235, 15.466902317963257, 15.495697568582528, 17.077309454963782, 11.963115720950002, 10.492155846301674, 10.054828777508066, 5.2629187083650715, 5.158741244440268, 4.9608166623601155, 4.862131751450054, 3.851743129429113, 3.678700184671955, 3.669818980760695, 3.4107637722913093, 3.426488570102149, 3.4124358065341514, 3.3759685574913956, 3.3821930373900897, 3.30290573959731, 3.123013192006938, 3.1180740423962434, 3.0380517163344094, 3.027902433589777, 3.018537995112391, 2.9735894269998986, 3.049251593282172, 2.9629191115582154, 2.749467638804012, 2.7226877599623354, 2.6854048466378875, 2.651093835586944, 2.6311792603405575, 2.612355209630483, 2.821544991582099, 2.6081406211141243, 2.561080785093792, 4.092958007775303, 3.5598609226798477, 4.203499513928369, 4.35457185895342, 4.630386952511269, 3.4085652779274893, 5.087586166056737, 3.63771848194084, 3.1234031911834506, 3.3602515131433095, 3.03020094762312, 8.182155286295995, 3.47916639866479, 3.4261310639611793, 3.279922692750636, 3.1864472847421053, 3.0207686955353967, 2.9817549383706576, 2.9780791662615935, 2.957007789329505, 2.4882995313339618, 2.292963624572326, 8.960507785514295, 2.09036500501298, 1.9354013338048695, 1.7842088462314565, 1.6182274155156342, 1.490510549984944, 1.352763880743992, 1.3236688488466997, 1.3225355040578084, 1.2154524384623346, 1.1909036325926965, 1.0768051564872185, 1.0365996169325022, 1.0338764717226439, 1.0218919850902637, 0.9964406864563998, 0.9710074047772944, 0.9092116783280322, 0.8980632567310293, 1.8347700613738047, 2.1460590155622485, 1.566677147891634, 1.2402283362965152, 1.1384923895350008, 3.7984590212498195, 2.7333338361987343, 2.26331079334499, 2.1221728387078147, 2.07777331359625, 1.9214054162167453, 1.8538847507718708, 1.8487173011954188, 1.6317495968336475, 1.5528574237632, 1.523942471603933, 1.485164146167416, 1.481586537142609, 1.4513529029957721, 1.398421160824042, 1.367306378289863, 1.3012385707637752, 1.2505800230292903, 1.242241624310209, 1.238072502914603, 1.2438816736356504, 1.209346847188221, 1.1619950617702062, 1.1550310892518383, 1.1316708335315193, 1.109850989228393, 1.0746059893019067, 1.0604092246191297, 1.0582511049491572, 1.0442969640304407, 2.2561499618920933, 4.100137970822763, 5.406149348021248, 2.9080370016330788, 2.821109665137742, 2.5212570093557596, 2.296795008682309, 1.9422210040249053, 1.841272639383826, 1.76630761543327, 1.7377742078050102, 1.7300523967969779, 1.6600718764073097, 1.6313399132388577, 1.5834517579538878, 1.5256032755707574, 1.4250788370830156, 1.343024558845367, 1.168275068420244, 1.1257824003142878, 1.090069373153087, 1.0690520909732695, 1.0716061104217591, 1.1143838243032136, 0.9214221718299097, 0.8813582828317129, 0.8625754867310595, 0.853778747798568, 0.849136640169206, 0.8452943347157933, 0.7848885003751068, 0.7700835575966388, 0.779707456279509, 1.5177949743274188, 6.204211433488404, 2.8419412486442335, 2.701564951116773, 2.6260663715515355, 2.4076263848475583, 1.9360754391353994, 1.786314038682582, 1.6715169385812172, 1.6160838259057593, 1.4995224188070508, 1.4784765575406509, 1.4730451076134687, 1.3738136083204804, 1.2868392080921667, 1.214353942774588, 1.1765522010405725, 1.1704132308472854, 1.1492382153667378, 1.146706963218915, 1.1139344106563198, 1.0852112727047893, 1.0748161016991415, 1.0878172901895362, 1.0294931220246228, 1.0149378992046691, 0.9840540042775142, 0.9732778787002021, 0.9582827412864087, 0.9577177012841415, 0.9327164825248382, 1.015868165940885, 3.7874569437476535, 2.4465547269855628, 2.123814919151548, 2.6835769803211322, 1.9210473396328138, 1.8791881303749527, 1.7313636758586695, 1.5618640800352366, 1.511156547742191, 1.5100239084292806, 1.4118744570002426, 1.3552193418506242, 1.2217077964535856, 1.2168995984607849, 1.1460243255162736, 1.114516700633979, 1.0967919992043438, 0.9533339857533908, 0.9428860473160804, 0.9463577830443579, 0.9475095092000482, 0.9224794528409118, 0.8560485014125915, 0.817660108035163, 0.8259167389441727, 0.7981191670359487, 0.797628428210742, 0.7895561501406299, 0.783211806246995, 0.7476617567027047, 0.7516184822071588, 1.238008956689389], \"Total\": [641.0, 263.0, 353.0, 380.0, 1054.0, 242.0, 491.0, 980.0, 969.0, 954.0, 925.0, 904.0, 215.0, 859.0, 83.0, 817.0, 82.0, 114.0, 809.0, 82.0, 797.0, 787.0, 786.0, 782.0, 76.0, 775.0, 76.0, 774.0, 77.0, 768.0, 1054.3341443663226, 980.6344058174751, 969.5035169569086, 954.9443690362833, 925.8040286388865, 904.8818611539438, 859.8543455758678, 817.6990364131863, 809.9694362203568, 797.9167909369376, 787.3864638103029, 786.3115487614449, 782.3615146645219, 775.8832053893392, 774.272644670525, 768.545907254046, 756.0512664086197, 747.1893116023205, 745.040815337526, 725.1966151763005, 720.0123207638858, 716.726579355521, 713.7811016744677, 691.6792968817949, 684.2514326564065, 678.8094761122602, 693.9050852236155, 670.3353915932167, 657.0475332560782, 650.9168331201935, 652.8608308941533, 32.2553449464984, 23.067861744528727, 21.43212221242947, 19.06369089079936, 18.13372099522731, 17.758021864978886, 16.082810844411302, 15.83393058027677, 15.579030365850347, 14.91505357694946, 14.80348552803675, 13.813365327251136, 13.798630686666506, 12.330967255469801, 11.1554501017323, 9.176351827930281, 8.372812622823469, 8.164887477861642, 8.044400690839725, 7.995181493967093, 7.985977368614254, 7.686498837184472, 7.614483923509655, 7.467477761459371, 7.351572531965031, 7.279932349456502, 7.255303961666457, 7.107802808882981, 6.937061826238536, 6.9106300083452075, 22.622446889062516, 20.80613212041702, 20.095817663288155, 13.988822959435087, 31.518992396849786, 16.412233981431573, 11.062516564467332, 53.72839311948277, 17.040135356387665, 52.82809533406649, 57.746324114205535, 263.8982161017914, 76.51607467941477, 114.6433327351277, 16.253141797926578, 81.31697827145464, 117.3789113803179, 22.53024307881531, 491.4576685682834, 83.97217838469818, 82.19555878344099, 77.75349049000825, 69.30937390486865, 61.16981913929682, 32.679174450678964, 28.59352099037553, 25.145055773177276, 21.567934394015804, 21.453036783995948, 15.705404037589386, 12.831889104268903, 10.723921675713354, 10.523970167872339, 9.449997832905462, 9.288863283119651, 9.288863283119651, 9.243774409051024, 8.852604586516886, 8.457700821324249, 8.28582061159267, 7.97885317562659, 7.97885317562659, 7.634951741737958, 7.176564379008713, 6.907000554294449, 6.908106281432256, 6.884761652122153, 6.573127275199684, 6.416965673814768, 82.02988278844043, 12.381102056508183, 8.165857588107523, 9.712816422809773, 30.315463533471995, 11.756973307383651, 353.72024231360143, 380.84979283903607, 109.86214839880114, 18.039259395692014, 242.48166951029532, 31.64533280056769, 18.666668620087165, 23.628629434204452, 76.30020822686458, 76.20433780015199, 65.74412253563777, 57.297756601853365, 23.848941719684472, 21.97453635502611, 20.207035683515, 16.712112364969666, 12.904163479296143, 12.017988228652317, 10.522568938672444, 10.351855561898901, 9.908711449836822, 9.862983710801197, 9.856911353278615, 9.809807738351179, 9.661094960545682, 8.802234633366739, 8.704439956323693, 8.270831803182952, 7.94192202534682, 7.583051804872114, 7.011241168426077, 6.853145578447199, 6.745660280557837, 6.742024555800886, 6.693369026703185, 6.629967998195851, 6.349234674337165, 13.558116662047567, 9.940212621999885, 641.0711284227388, 42.99730950121921, 22.819923431708393, 84.66137762836817, 27.851547461841673, 15.174552169890376, 32.081454983404804, 44.14206893127988, 46.57585236812545, 133.45259849390703, 81.31697827145464, 82.25400370608556, 215.42337083094012, 48.41283132193602, 48.460338540488614, 44.35214614233945, 5.537942871752196, 5.435438537559475, 5.235992572312721, 5.138275250203403, 4.1284429624364485, 3.9543706714752966, 3.9469732656593313, 3.6856056185686388, 3.702686697445762, 3.689180993551834, 3.652661412973828, 3.6594379986287393, 3.577746615031363, 3.399275951486802, 3.396857008202974, 3.3140978591541432, 3.3030867335275653, 3.2952133005305635, 3.249566762052383, 3.334838667584041, 3.242316447547026, 3.0258226498700953, 2.9983473960352836, 2.961863329844802, 2.927094475918639, 2.9069151933800885, 2.887870956761596, 3.1192432710587017, 2.883425579748336, 2.8372927472066243, 4.635336847736776, 4.047435057169899, 4.970652192581805, 5.882144068019995, 6.786542570307085, 4.272445101433626, 8.181927853477639, 4.982558423168912, 3.8082464264668396, 5.1055560468985925, 3.7628422291021355, 8.463184272779287, 3.7575401031822144, 3.7052332794663005, 3.558278501662829, 3.4647700428579533, 3.2989671558038265, 3.260283107271631, 3.2568896239798066, 3.237103665728079, 2.766517213924864, 2.5717070797218127, 10.098334296449764, 2.369934290556026, 2.214155317276251, 2.066102772037641, 1.8967504687139192, 1.7688906986570416, 1.6319090604261417, 1.6027726516476883, 1.6023589994056286, 1.4967766573822072, 1.4692921108070844, 1.3552001936792257, 1.315821183383004, 1.3131911311095505, 1.3022555025675995, 1.2750629166413932, 1.2500751376346018, 1.18781689075084, 1.1766319583717473, 2.538402996345694, 4.836942103325992, 4.24895108762367, 3.041681511898933, 2.880595064524614, 4.078044160325743, 3.0126829410487725, 2.5428418476056454, 2.403303367145578, 2.3584767641181275, 2.2052158094900145, 2.13247277994016, 2.1268867672898937, 1.9112096895690944, 1.832102438535066, 1.8026187871446682, 1.7643118888180613, 1.7604206498568449, 1.7314551032764696, 1.6794522906173641, 1.6461357822932852, 1.5793897618829889, 1.5287494272097226, 1.5213105705421315, 1.5169938279646058, 1.5243900056724122, 1.4885258081734005, 1.4410261890778595, 1.4335254983414596, 1.4101144887031176, 1.3894260066616873, 1.3548174860420135, 1.339660184268538, 1.3380644902923737, 1.3234563074922538, 2.946372185199647, 5.896714214546588, 5.692992167865139, 3.189748584459537, 3.1066050303175876, 2.800006208697946, 2.5773210883713733, 2.221261174509421, 2.122942901464053, 2.045850818045317, 2.0166439225129644, 2.008411835845451, 1.9396745185255284, 1.911517884394398, 1.862640148623506, 1.8043136385959473, 1.7034184071220042, 1.625674194358276, 1.446805998450102, 1.4040901012703293, 1.370190790668784, 1.3475691181520832, 1.3520953746437527, 1.410998389823783, 1.2003244708689185, 1.161018274821144, 1.1411167008414378, 1.1322786857391443, 1.1297287700043082, 1.1252764475713342, 1.0644960207230474, 1.0487355955306474, 1.0622927522037005, 2.251625402377319, 6.486434383737066, 3.120411705304305, 2.985108514711964, 2.9044837273826336, 2.688515314713597, 2.21514246103751, 2.0653066487091767, 1.9498514427583697, 1.8943318455768552, 1.7781384239845044, 1.7569581415987927, 1.7531387668251632, 1.6529224375633822, 1.569648437378172, 1.4936837014280597, 1.455635327073767, 1.4491811864611692, 1.4279025509251226, 1.4251389619258061, 1.3924070859632849, 1.3644430111819716, 1.3545844070710495, 1.3715806995752535, 1.3081441692451508, 1.2952383984555853, 1.2627364120946993, 1.2519677294504998, 1.2365890496143985, 1.236798445086215, 1.2123903757872356, 4.382420859039848, 4.066275836657069, 2.7263297790961416, 2.4023318751319422, 3.0661313959711154, 2.2022083305685953, 2.1608851955449415, 2.0110824357772707, 1.8417755438187413, 1.789853179470273, 1.7886729514164093, 1.690891765028392, 1.6341038473827596, 1.5001628226967003, 1.4954264887021833, 1.4249686294334039, 1.393022637407805, 1.3767319187990599, 1.2319398034006115, 1.2217457135380163, 1.2272574689700169, 1.2313905202165096, 1.2024185503702307, 1.138682982846271, 1.0970051686347908, 1.1092388068693484, 1.0774225747143495, 1.0768852912576194, 1.0703249003305197, 1.0633480523089074, 1.026559396938369, 1.032584408220956, 1.9683289552983414], \"Category\": [\"Default\", \"Default\", \"Default\", \"Default\", \"Default\", \"Default\", \"Default\", \"Default\", \"Default\", \"Default\", \"Default\", \"Default\", \"Default\", \"Default\", \"Default\", \"Default\", \"Default\", \"Default\", \"Default\", \"Default\", \"Default\", \"Default\", \"Default\", \"Default\", \"Default\", \"Default\", \"Default\", \"Default\", \"Default\", \"Default\", \"Topic1\", \"Topic1\", \"Topic1\", \"Topic1\", \"Topic1\", \"Topic1\", \"Topic1\", \"Topic1\", \"Topic1\", \"Topic1\", \"Topic1\", \"Topic1\", \"Topic1\", \"Topic1\", \"Topic1\", \"Topic1\", \"Topic1\", \"Topic1\", \"Topic1\", \"Topic1\", \"Topic1\", \"Topic1\", \"Topic1\", \"Topic1\", \"Topic1\", \"Topic1\", \"Topic1\", \"Topic1\", \"Topic1\", \"Topic1\", \"Topic1\", \"Topic2\", \"Topic2\", \"Topic2\", \"Topic2\", \"Topic2\", \"Topic2\", \"Topic2\", \"Topic2\", \"Topic2\", \"Topic2\", \"Topic2\", \"Topic2\", \"Topic2\", \"Topic2\", \"Topic2\", \"Topic2\", \"Topic2\", \"Topic2\", \"Topic2\", \"Topic2\", \"Topic2\", \"Topic2\", \"Topic2\", \"Topic2\", \"Topic2\", \"Topic2\", \"Topic2\", \"Topic2\", \"Topic2\", \"Topic2\", \"Topic2\", \"Topic2\", \"Topic2\", \"Topic2\", \"Topic2\", \"Topic2\", \"Topic2\", \"Topic2\", \"Topic2\", \"Topic2\", \"Topic2\", \"Topic2\", \"Topic2\", \"Topic2\", \"Topic2\", \"Topic2\", \"Topic2\", \"Topic2\", \"Topic2\", \"Topic3\", \"Topic3\", \"Topic3\", \"Topic3\", \"Topic3\", \"Topic3\", \"Topic3\", \"Topic3\", \"Topic3\", \"Topic3\", \"Topic3\", \"Topic3\", \"Topic3\", \"Topic3\", \"Topic3\", \"Topic3\", \"Topic3\", \"Topic3\", \"Topic3\", \"Topic3\", \"Topic3\", \"Topic3\", \"Topic3\", \"Topic3\", \"Topic3\", \"Topic3\", \"Topic3\", \"Topic3\", \"Topic3\", \"Topic3\", \"Topic3\", \"Topic3\", \"Topic3\", \"Topic3\", \"Topic3\", \"Topic3\", \"Topic3\", \"Topic3\", \"Topic3\", \"Topic3\", \"Topic3\", \"Topic3\", \"Topic3\", \"Topic3\", \"Topic4\", \"Topic4\", \"Topic4\", \"Topic4\", \"Topic4\", \"Topic4\", \"Topic4\", \"Topic4\", \"Topic4\", \"Topic4\", \"Topic4\", \"Topic4\", \"Topic4\", \"Topic4\", \"Topic4\", \"Topic4\", \"Topic4\", \"Topic4\", \"Topic4\", \"Topic4\", \"Topic4\", \"Topic4\", \"Topic4\", \"Topic4\", \"Topic4\", \"Topic4\", \"Topic4\", \"Topic4\", \"Topic4\", \"Topic4\", \"Topic4\", \"Topic4\", \"Topic4\", \"Topic4\", \"Topic4\", \"Topic4\", \"Topic4\", \"Topic4\", \"Topic4\", \"Topic4\", \"Topic4\", \"Topic4\", \"Topic4\", \"Topic4\", \"Topic4\", \"Topic4\", \"Topic4\", \"Topic5\", \"Topic5\", \"Topic5\", \"Topic5\", \"Topic5\", \"Topic5\", \"Topic5\", \"Topic5\", \"Topic5\", \"Topic5\", \"Topic5\", \"Topic5\", \"Topic5\", \"Topic5\", \"Topic5\", \"Topic5\", \"Topic5\", \"Topic5\", \"Topic5\", \"Topic5\", \"Topic5\", \"Topic5\", \"Topic5\", \"Topic5\", \"Topic5\", \"Topic5\", \"Topic5\", \"Topic5\", \"Topic5\", \"Topic5\", \"Topic5\", \"Topic5\", \"Topic5\", \"Topic5\", \"Topic5\", \"Topic5\", \"Topic5\", \"Topic5\", \"Topic5\", \"Topic5\", \"Topic5\", \"Topic6\", \"Topic6\", \"Topic6\", \"Topic6\", \"Topic6\", \"Topic6\", \"Topic6\", \"Topic6\", \"Topic6\", \"Topic6\", \"Topic6\", \"Topic6\", \"Topic6\", \"Topic6\", \"Topic6\", \"Topic6\", \"Topic6\", \"Topic6\", \"Topic6\", \"Topic6\", \"Topic6\", \"Topic6\", \"Topic6\", \"Topic6\", \"Topic6\", \"Topic6\", \"Topic6\", \"Topic6\", \"Topic6\", \"Topic6\", \"Topic6\", \"Topic6\", \"Topic6\", \"Topic6\", \"Topic6\", \"Topic7\", \"Topic7\", \"Topic7\", \"Topic7\", \"Topic7\", \"Topic7\", \"Topic7\", \"Topic7\", \"Topic7\", \"Topic7\", \"Topic7\", \"Topic7\", \"Topic7\", \"Topic7\", \"Topic7\", \"Topic7\", \"Topic7\", \"Topic7\", \"Topic7\", \"Topic7\", \"Topic7\", \"Topic7\", \"Topic7\", \"Topic7\", \"Topic7\", \"Topic7\", \"Topic7\", \"Topic7\", \"Topic7\", \"Topic7\", \"Topic7\", \"Topic7\", \"Topic8\", \"Topic8\", \"Topic8\", \"Topic8\", \"Topic8\", \"Topic8\", \"Topic8\", \"Topic8\", \"Topic8\", \"Topic8\", \"Topic8\", \"Topic8\", \"Topic8\", \"Topic8\", \"Topic8\", \"Topic8\", \"Topic8\", \"Topic8\", \"Topic8\", \"Topic8\", \"Topic8\", \"Topic8\", \"Topic8\", \"Topic8\", \"Topic8\", \"Topic8\", \"Topic8\", \"Topic8\", \"Topic8\", \"Topic8\", \"Topic8\", \"Topic8\", \"Topic9\", \"Topic9\", \"Topic9\", \"Topic9\", \"Topic9\", \"Topic9\", \"Topic9\", \"Topic9\", \"Topic9\", \"Topic9\", \"Topic9\", \"Topic9\", \"Topic9\", \"Topic9\", \"Topic9\", \"Topic9\", \"Topic9\", \"Topic9\", \"Topic9\", \"Topic9\", \"Topic9\", \"Topic9\", \"Topic9\", \"Topic9\", \"Topic9\", \"Topic9\", \"Topic9\", \"Topic9\", \"Topic9\", \"Topic9\", \"Topic9\", \"Topic10\", \"Topic10\", \"Topic10\", \"Topic10\", \"Topic10\", \"Topic10\", \"Topic10\", \"Topic10\", \"Topic10\", \"Topic10\", \"Topic10\", \"Topic10\", \"Topic10\", \"Topic10\", \"Topic10\", \"Topic10\", \"Topic10\", \"Topic10\", \"Topic10\", \"Topic10\", \"Topic10\", \"Topic10\", \"Topic10\", \"Topic10\", \"Topic10\", \"Topic10\", \"Topic10\", \"Topic10\", \"Topic10\", \"Topic10\", \"Topic10\", \"Topic10\"], \"logprob\": [30.0, 29.0, 28.0, 27.0, 26.0, 25.0, 24.0, 23.0, 22.0, 21.0, 20.0, 19.0, 18.0, 17.0, 16.0, 15.0, 14.0, 13.0, 12.0, 11.0, 10.0, 9.0, 8.0, 7.0, 6.0, 5.0, 4.0, 3.0, 2.0, 1.0, -5.679, -5.7514, -5.7629, -5.778, -5.809, -5.8319, -5.8829, -5.9332, -5.9427, -5.9577, -5.971, -5.9723, -5.9774, -5.9857, -5.9878, -5.9952, -6.0116, -6.0234, -6.0263, -6.0533, -6.0604, -6.065, -6.0691, -6.1006, -6.1114, -6.1194, -6.0974, -6.132, -6.152, -6.1614, -6.1587, -6.4196, -6.7582, -6.8327, -6.9513, -7.0021, -7.0233, -7.124, -7.1399, -7.1564, -7.2007, -7.2087, -7.2789, -7.28, -7.3949, -7.5023, -7.6979, -7.7924, -7.8185, -7.8338, -7.8401, -7.8413, -7.8809, -7.8906, -7.9108, -7.9271, -7.9372, -7.9407, -7.9621, -7.9874, -7.9913, -6.8066, -6.9057, -6.99, -7.3278, -6.5853, -7.2054, -7.5741, -6.4019, -7.2884, -6.4675, -6.6502, -5.7894, -6.5691, -6.4958, -7.4701, -6.9419, -6.8509, -7.3686, -6.9914, -5.4551, -5.4766, -5.5323, -5.6477, -5.7731, -6.4039, -6.5386, -6.6684, -6.8239, -6.8293, -7.1456, -7.3519, -7.5351, -7.5546, -7.6651, -7.6828, -7.6828, -7.6878, -7.7324, -7.7797, -7.8006, -7.8397, -7.8397, -7.8853, -7.9498, -7.9894, -7.9895, -7.9931, -8.0409, -8.066, -5.5243, -7.4224, -7.8329, -7.724, -6.9042, -7.6219, -6.1598, -6.3367, -6.8321, -7.5748, -6.752, -7.4751, -7.608, -7.712, -5.4849, -5.4861, -5.6343, -5.7725, -6.6556, -6.7384, -6.8234, -7.0161, -7.2795, -7.3522, -7.4883, -7.5051, -7.5501, -7.5548, -7.5555, -7.5604, -7.5761, -7.672, -7.6837, -7.7363, -7.7784, -7.8262, -7.9076, -7.9313, -7.9477, -7.9484, -7.956, -7.9658, -8.0109, -7.2578, -7.5746, -3.949, -6.5096, -7.0485, -6.3071, -7.06, -7.4476, -7.0103, -6.9155, -7.0563, -6.8976, -7.0773, -7.0755, -6.9783, -7.3342, -7.4654, -7.508, -7.8364, -7.8564, -7.8955, -7.9156, -8.1485, -8.1945, -8.1969, -8.2701, -8.2655, -8.2696, -8.2804, -8.2785, -8.3022, -8.3582, -8.3598, -8.3858, -8.3892, -8.3923, -8.4073, -8.3822, -8.4109, -8.4856, -8.4954, -8.5092, -8.5221, -8.5296, -8.5368, -8.4598, -8.5384, -8.5566, -8.0878, -8.2273, -8.0611, -8.0258, -7.9644, -8.2708, -7.8702, -8.2057, -8.3581, -8.285, -8.3884, -7.1822, -8.0374, -8.0527, -8.0963, -8.1253, -8.1787, -8.1917, -8.1929, -8.2, -8.3726, -8.4543, -7.0913, -8.5468, -8.6239, -8.7052, -8.8028, -8.8851, -8.982, -9.0038, -9.0046, -9.0891, -9.1095, -9.2102, -9.2482, -9.2509, -9.2625, -9.2877, -9.3136, -9.3793, -9.3917, -8.6772, -8.5205, -8.8352, -9.0689, -9.1545, -7.9448, -8.2739, -8.4626, -8.527, -8.5481, -8.6264, -8.6621, -8.6649, -8.7898, -8.8393, -8.8581, -8.8839, -8.8863, -8.9069, -8.9441, -8.9666, -9.0161, -9.0558, -9.0625, -9.0659, -9.0612, -9.0893, -9.1293, -9.1353, -9.1557, -9.1752, -9.2075, -9.2208, -9.2228, -9.2361, -8.4658, -7.8684, -7.5859, -8.206, -8.2363, -8.3487, -8.4419, -8.6096, -8.663, -8.7046, -8.7209, -8.7253, -8.7666, -8.7841, -8.8139, -8.8511, -8.9192, -8.9785, -9.1179, -9.155, -9.1872, -9.2067, -9.2043, -9.1652, -9.3553, -9.3998, -9.4213, -9.4315, -9.437, -9.4415, -9.5157, -9.5347, -9.5223, -8.8562, -7.4479, -8.2287, -8.2793, -8.3077, -8.3945, -8.6125, -8.693, -8.7594, -8.7932, -8.868, -8.8821, -8.8858, -8.9556, -9.021, -9.0789, -9.1106, -9.1158, -9.1341, -9.1363, -9.1653, -9.1914, -9.201, -9.189, -9.2441, -9.2583, -9.2892, -9.3002, -9.3158, -9.3164, -9.3428, -9.2574, -7.9308, -8.3678, -8.5093, -8.2753, -8.6096, -8.6316, -8.7136, -8.8166, -8.8496, -8.8504, -8.9176, -8.9585, -9.0622, -9.0662, -9.1262, -9.1541, -9.1701, -9.3103, -9.3213, -9.3176, -9.3164, -9.3432, -9.4179, -9.4638, -9.4537, -9.488, -9.4886, -9.4988, -9.5068, -9.5533, -9.548, -9.049], \"loglift\": [30.0, 29.0, 28.0, 27.0, 26.0, 25.0, 24.0, 23.0, 22.0, 21.0, 20.0, 19.0, 18.0, 17.0, 16.0, 15.0, 14.0, 13.0, 12.0, 11.0, 10.0, 9.0, 8.0, 7.0, 6.0, 5.0, 4.0, 3.0, 2.0, 1.0, 0.3381, 0.3381, 0.3381, 0.3381, 0.3381, 0.3381, 0.3381, 0.338, 0.338, 0.338, 0.338, 0.338, 0.338, 0.338, 0.338, 0.338, 0.338, 0.338, 0.338, 0.338, 0.338, 0.338, 0.338, 0.338, 0.338, 0.338, 0.338, 0.338, 0.338, 0.338, 0.3377, 3.0844, 3.0811, 3.0802, 3.0786, 3.0779, 3.0776, 3.076, 3.0757, 3.0754, 3.0747, 3.0742, 3.0732, 3.0732, 3.0707, 3.0635, 3.0632, 3.0603, 3.0593, 3.059, 3.0588, 3.0587, 3.0574, 3.057, 3.0563, 3.0557, 3.0554, 3.0552, 3.0544, 3.0535, 3.0533, 3.0521, 3.0368, 2.9872, 3.0117, 2.9418, 2.9743, 3.0001, 2.5919, 2.8537, 2.5431, 2.2714, 1.6128, 2.0712, 1.7401, 2.7194, 1.6375, 1.3614, 2.4943, -0.2111, 3.0921, 3.0921, 3.0919, 3.0915, 3.0909, 3.0871, 3.0859, 3.0846, 3.0826, 3.0826, 3.0782, 3.0739, 3.0701, 3.0694, 3.0666, 3.0661, 3.0661, 3.066, 3.0646, 3.0629, 3.0625, 3.0613, 3.0613, 3.0597, 3.0571, 3.0558, 3.0555, 3.0553, 3.0538, 3.0528, 3.0463, 3.0392, 3.0449, 2.9802, 2.6619, 2.8914, 0.9494, 0.6986, 1.4464, 2.5104, 0.7348, 2.048, 2.4429, 2.1032, 3.1582, 3.1582, 3.1576, 3.157, 3.1504, 3.1494, 3.1483, 3.1455, 3.1407, 3.1391, 3.1358, 3.1354, 3.1342, 3.1341, 3.1341, 3.1339, 3.1335, 3.1307, 3.1302, 3.1287, 3.1272, 3.1256, 3.1226, 3.1217, 3.1211, 3.121, 3.1206, 3.1203, 3.1185, 3.113, 3.1065, 2.5656, 2.7069, 2.8016, 2.2319, 2.5908, 2.8105, 2.4992, 2.2748, 2.0803, 1.1864, 1.5021, 1.4925, 0.6269, 1.7638, 1.6316, 1.6776, 3.4297, 3.4284, 3.4267, 3.4254, 3.4113, 3.4084, 3.4079, 3.4032, 3.4031, 3.4027, 3.4019, 3.4019, 3.4007, 3.3959, 3.395, 3.3937, 3.3937, 3.393, 3.3919, 3.3911, 3.3906, 3.3849, 3.3842, 3.3827, 3.3816, 3.381, 3.3804, 3.3804, 3.3803, 3.3783, 3.3562, 3.3523, 3.313, 3.18, 3.0984, 3.2548, 3.0055, 3.1661, 3.2824, 3.0624, 3.2641, 3.6598, 3.6166, 3.6152, 3.6121, 3.6098, 3.6055, 3.6042, 3.6041, 3.6031, 3.5876, 3.5788, 3.574, 3.568, 3.559, 3.5469, 3.5347, 3.5223, 3.506, 3.5022, 3.5016, 3.4854, 3.4835, 3.4636, 3.455, 3.4544, 3.4511, 3.447, 3.4409, 3.4263, 3.4234, 3.3689, 2.8809, 2.6958, 2.7964, 2.7653, 3.6273, 3.601, 3.5818, 3.5739, 3.5716, 3.5605, 3.5583, 3.5581, 3.5402, 3.5329, 3.5304, 3.5261, 3.5259, 3.5218, 3.5152, 3.5127, 3.5046, 3.4975, 3.4956, 3.4951, 3.4949, 3.4906, 3.4831, 3.4823, 3.4783, 3.4736, 3.4666, 3.4645, 3.4637, 3.4614, 3.4314, 3.3349, 3.6526, 3.6118, 3.6079, 3.5994, 3.589, 3.57, 3.5619, 3.5573, 3.5554, 3.5551, 3.5486, 3.5458, 3.5419, 3.5365, 3.5258, 3.5133, 3.4904, 3.4833, 3.4756, 3.4727, 3.4718, 3.4683, 3.4398, 3.4287, 3.4244, 3.4219, 3.4187, 3.4182, 3.3995, 3.3954, 3.395, 3.3099, 3.6601, 3.6111, 3.6048, 3.6038, 3.5942, 3.5699, 3.5594, 3.5505, 3.5457, 3.5341, 3.532, 3.5305, 3.5196, 3.5059, 3.4975, 3.4917, 3.4909, 3.4875, 3.4872, 3.4814, 3.4756, 3.4732, 3.4728, 3.465, 3.4607, 3.4552, 3.4528, 3.4496, 3.4488, 3.4423, 2.2427, 3.6442, 3.607, 3.592, 3.582, 3.5786, 3.5756, 3.5655, 3.5504, 3.546, 3.5459, 3.5349, 3.5281, 3.5099, 3.5091, 3.4974, 3.4922, 3.4879, 3.4589, 3.4561, 3.4553, 3.4532, 3.4502, 3.4299, 3.4213, 3.4203, 3.4152, 3.4151, 3.411, 3.4095, 3.3982, 3.3976, 3.2516]}, \"token.table\": {\"Topic\": [8, 9, 8, 6, 6, 3, 2, 1, 2, 2, 3, 1, 1, 2, 3, 9, 9, 2, 3, 3, 3, 3, 2, 3, 3, 4, 7, 3, 3, 3, 1, 3, 4, 3, 3, 1, 2, 3, 2, 2, 1, 2, 3, 7, 4, 9, 3, 3, 3, 2, 3, 10, 5, 8, 5, 7, 10, 5, 9, 6, 7, 4, 1, 2, 9, 5, 9, 1, 4, 4, 8, 7, 5, 5, 7, 10, 10, 1, 8, 8, 3, 1, 2, 4, 5, 6, 2, 1, 2, 1, 2, 2, 3, 2, 2, 5, 9, 7, 7, 5, 6, 1, 10, 10, 1, 8, 9, 7, 2, 9, 8, 10, 2, 2, 2, 9, 7, 1, 5, 1, 9, 9, 9, 2, 1, 2, 1, 3, 3, 8, 6, 7, 1, 3, 8, 10, 6, 3, 4, 1, 4, 1, 10, 10, 10, 10, 8, 3, 1, 10, 10, 8, 7, 1, 5, 4, 1, 4, 2, 1, 2, 5, 10, 6, 1, 4, 1, 5, 4, 5, 7, 4, 1, 3, 3, 4, 6, 4, 8, 8, 1, 2, 2, 2, 1, 3, 7, 1, 2, 1, 2, 7, 9, 8, 2, 1, 10, 1, 1, 4, 3, 5, 8, 5, 6, 6, 1, 2, 5, 7, 3, 7, 1, 4, 4, 4, 4, 4, 4, 4, 4, 4, 4, 10, 10, 3, 5, 1, 1, 4, 6, 7, 4, 4, 10, 7, 4, 5, 9, 9, 4, 5, 4, 5, 6, 2, 3, 4, 5, 8, 10, 5, 10, 10, 10, 5, 3, 3, 8, 8, 5, 8, 1, 1, 2, 1, 10, 8, 3, 4, 5, 9, 6, 6, 8, 9, 9, 9, 8, 8, 2, 4, 5, 6, 6, 6, 6, 5, 6, 6, 6, 8, 8, 10, 3, 5, 1, 3, 5, 1, 3, 6, 5, 5, 1, 5, 7, 1, 2, 1, 5, 8, 9, 9, 4, 5, 6, 5, 1, 4, 2, 2, 1, 9, 9, 6, 8, 6, 6, 6, 4, 10, 9, 2, 7, 1, 4, 1, 3, 6, 10, 5, 2, 5, 3, 10, 1, 8, 2, 3, 1, 2, 1, 9, 5, 6, 3, 10, 7, 10, 7, 1, 2, 1, 2, 6, 1, 9, 9, 1, 7, 7, 5, 5, 7, 9, 5, 2, 8, 2, 1, 2, 5, 5, 6, 1, 2, 4, 1, 2, 7, 4, 4, 1, 4, 2, 8, 3, 9, 4, 8, 1, 6, 5, 3, 1, 1, 7, 4, 1, 10, 1, 3, 1, 2, 4, 2, 4, 9, 10, 6, 1, 6, 5, 1, 2, 1, 1, 4, 7, 1, 2, 3, 4, 1, 3, 7, 7, 7], \"Freq\": [0.7087180305888855, 0.824816841152071, 0.8851682160809152, 0.7842750243525798, 0.7599816849193588, 0.9976208108280373, 1.0104881993059949, 0.07148564270916924, 0.9293133552192, 0.9521772341310142, 0.973628260679714, 1.000150531175117, 0.2968781918858966, 0.06597293153019924, 0.6597293153019924, 0.7644417362476479, 0.7919309132308483, 1.0056953481670239, 0.9972238083799119, 0.9350213644563741, 0.9942312407462619, 0.9792428155114122, 0.9966590472346517, 0.9903092390417498, 0.9796888953403899, 0.9573894460844861, 0.9069407136449501, 1.0026503588808988, 0.932494688267555, 0.9792169030553691, 0.6348231090494916, 0.38089386542969494, 0.9315714250563228, 0.9168361813910532, 0.9550852664534406, 0.30763282952701815, 0.6767922249594399, 0.9689021924087748, 0.9373981715925443, 1.014593427268698, 1.0003066743081581, 1.0090727422268904, 0.9955363338688749, 0.6560001025189728, 0.9503382736936126, 0.7328997926661175, 1.0131010246710417, 0.9736676501495024, 0.9788823937348621, 0.9731596679633554, 0.9655048516024136, 0.8117279734282702, 0.8102224803598698, 1.0462889289856865, 0.9082413639184458, 0.9808623552719181, 1.1174100886822025, 0.8139774871422883, 0.729085791532118, 0.5653260547750121, 0.6975808949034852, 0.9672545870079566, 0.4438478521966227, 0.5326174226359472, 0.5623859124303556, 1.0320218514911936, 0.7016859595563151, 0.44924812120081226, 0.55064092633294, 0.989754277334013, 0.9775883863862935, 0.9378783254884607, 0.8825408830630054, 0.9730891703012738, 0.7865215848493337, 0.5914039092757714, 0.6665943088780156, 0.9990179019599729, 0.9958116977328458, 0.58705482799704, 1.000331319442189, 0.15585328042591634, 0.34287721693701595, 0.5299011534481155, 0.7972696747149668, 0.9267543797752457, 1.0017559067273163, 0.7730253088232801, 0.22736038494802358, 0.0442038832007814, 0.9724854304171908, 0.9554734305402681, 0.9458835408116759, 0.910687706883732, 1.0006026762540092, 0.9549287801589672, 0.6370853346436787, 0.7197216657853238, 0.6573279771819648, 0.8197980130075047, 0.8418806027988728, 1.0000582557115583, 0.9837010966989502, 0.8325244404002902, 1.0001042828826359, 0.6151294050618447, 0.8085391795025193, 0.6718056176850032, 0.962832708310294, 0.6869852506329858, 0.8331080672512633, 0.97843164971403, 1.013274878513649, 0.9648114037653887, 0.9848331739383295, 0.7382338042427716, 0.7473481340062279, 0.9999276562901886, 0.9882802178416996, 0.9996037845788535, 0.9250074301288447, 0.6049890649885103, 0.6900448400396033, 0.979805296973324, 0.04806275352922045, 0.961255070584409, 1.0001305572043466, 1.0134645197976317, 0.9753970883999648, 0.9656843952555213, 0.623918806558108, 0.7555972904725855, 0.8820529974741647, 0.11591081056551523, 0.9917467222015951, 0.7335869693148636, 0.9032789996233441, 1.0167381753647675, 1.0074267906523053, 0.7841463998079791, 0.20635431573894186, 0.9995379186504632, 0.8120900588256719, 0.911572733284828, 1.1181473943664468, 0.928140938818851, 0.7759995481447031, 0.9502117395322994, 1.0000377344851255, 0.8148249452816579, 0.9255466251161165, 0.8882472181599804, 1.1094969242875705, 0.9996830754575217, 0.7877641476009464, 1.0063339615690723, 0.7665919906307063, 0.22546823253844303, 0.9860650981973234, 0.09039534487224975, 0.9039534487224975, 0.9028623291698942, 0.5080451604942372, 0.7378983597140031, 0.8145500155762389, 0.18236194378572512, 0.9993530659196622, 0.9231999893134185, 0.19586505187960032, 0.5875951556388009, 0.746457953847457, 0.8964095623688175, 0.8101061311574643, 0.19114863768883988, 0.26359921236666695, 0.7248978340083341, 0.9452706856130904, 0.966010387239758, 0.7298253694377149, 0.9405129967346039, 0.8178641194664997, 0.1789077761332968, 0.957313834235456, 0.9926258380581401, 0.04876271748816489, 0.9508729910192153, 0.6074833016550236, 0.12186031482750943, 0.9139523612063207, 0.6403883132439692, 0.3659361789965538, 0.5775489056041238, 0.6694857813899517, 0.9535291872056771, 0.9970581692711583, 1.00028067358286, 0.9342957448632624, 0.9986814480921236, 0.5890072810242911, 0.40777427147835543, 0.20118084332925137, 0.8047233733170055, 0.942088455898052, 0.6575310374133788, 0.3287655187066894, 0.7229306182998932, 0.17605493954456294, 0.7629047380264394, 1.0128759047626943, 0.8480049625368399, 0.3391719400384379, 0.6783438800768758, 0.9191203314490255, 0.07891437189208804, 0.9983966935160212, 1.0092129587813037, 0.9973185542181618, 0.9449957841771499, 1.0224676317856365, 0.9985032246404243, 0.9960654337145193, 1.0214287614164583, 0.9231111932404967, 0.87820755650566, 0.9741277543047384, 0.3666617518174379, 0.6111029196957297, 0.9992896881645021, 0.37211630647602056, 0.6279462671782847, 0.8439052542384062, 0.568046051994061, 0.9049817437478916, 0.9190711912703903, 0.8316571627176701, 1.0464576497887703, 0.14735043501756903, 0.7367521750878452, 0.5691655232548809, 0.7987426324789612, 1.0011587796239472, 0.8385166203207215, 1.0073128361708694, 0.3471504941167531, 0.3471504941167531, 0.9920836392566276, 1.0166499488419043, 0.994803346247526, 0.9104114745825312, 1.0311008269162234, 0.9404258538195879, 1.0388275809124599, 0.9081792908682774, 0.7017698350297158, 0.7178634238570897, 0.82131894003215, 0.9523811707830724, 1.0026503588808988, 0.900389392724929, 0.883174798390916, 1.0005511716110354, 0.8613128851516579, 0.9997466350235732, 0.9624430144267474, 0.03662573839256121, 0.9994996659919453, 0.9684438308756803, 0.8886705148395168, 0.8505590459850554, 0.17011180919701108, 1.0249071304944746, 1.00498859093887, 0.7878969583943985, 0.7776935467379685, 1.0714261956565643, 0.9614115967134657, 1.0328858005699486, 0.8086760919578146, 0.7122050067123649, 0.878272769849074, 0.3067494954988967, 0.7011417039974781, 0.09902623250960968, 0.8912360925864872, 0.7983946724771711, 0.9093755282534844, 0.8658583290928645, 0.4134843786169684, 0.4134843786169684, 0.6240798724698617, 0.8431043266000853, 0.9394116845272572, 0.9413600892273098, 0.6687055549402882, 0.2340580104035622, 0.7021740312106866, 0.6320047296086966, 0.3476026012847831, 0.9252644054128799, 0.9031610531314891, 0.09485253069417465, 0.7615037722308352, 0.9617717309306788, 0.9052237222607813, 1.0001367835146415, 0.8995937432179835, 1.0916420162614835, 0.41644507266218206, 0.5678796445393391, 1.0001693942990248, 0.9198889777613073, 0.7420769640159879, 0.7439050055078658, 0.5704055029317185, 1.0193879703579989, 0.47070440651237266, 0.47070440651237266, 0.8831693511841637, 0.43085577260799374, 0.574474363477325, 0.9193006473344252, 0.961547396868681, 0.9999452173133527, 1.0557812268583635, 1.0257191682104188, 0.9680060581050145, 0.7395927970417604, 0.8096656198748485, 0.6805998566552559, 0.9211242462475911, 0.9588352367840387, 0.6119562117191245, 0.7720586427891412, 1.013511166057461, 0.6939499140122632, 0.6655809485778749, 0.3435256508789032, 0.4434771863145609, 0.5543464828932011, 0.612779243801042, 0.9286040102118671, 1.040429141320803, 0.20070010526118406, 0.8028004210447363, 0.9692190521676659, 0.9944893180010359, 0.9999828881207579, 1.073744706661672, 1.0129322495267248, 0.9689021924087748, 0.5541478265649126, 0.432927989503838, 0.6845531491599542, 0.2281843830533181, 1.0115389608905025, 0.7999519148042612, 1.0133023023711631, 0.7263578234405376, 0.7091622758374039, 0.9015191262757407, 0.9957901507404037, 0.09952319599583549, 0.8957087639625195, 0.1269076101683944, 0.8566263686366623, 0.920165489097832, 1.0002116769370746, 0.7181807749191302, 0.7003279035758503, 1.0003814852865158, 0.8321879074198674, 0.6591984631484814, 0.9688882797691247, 0.8629362075278344, 0.5667932106210058, 0.9683791998878261, 1.0573459516835422, 0.9948509719344192, 1.1084547371466575, 0.9807819238803034, 0.9994806445277382, 0.17000603664857408, 0.6800241465942963, 0.9914659076693725, 0.6681023485153447, 0.5779850776439732, 0.23365354202628708, 0.1844633226523319, 0.3908547935409047, 0.614200389849993, 0.7381068005856765, 0.9054132282926235, 1.0138919715591492, 0.6023998360134293, 0.38978812918516015, 0.994480547085343, 0.8763345582994438, 0.9266107386590999, 0.10295674873989999, 0.8894607422334979, 0.6911776707252077, 1.0001277688263306, 0.8498834260662315, 1.0134347842692597, 0.9128075189777498, 0.9991451177241781, 0.9996478699429695, 0.5954322165546015, 1.0145165804574057, 0.9999321918884374, 0.8185009277455375, 0.9084946519748663, 0.09189974803213966, 0.7229488349329691, 0.020655680998084833, 0.247868171977018, 0.9798376377221821, 0.8899403955504074, 0.9028764673958065, 1.0859086530453086, 1.0544349575704013, 0.9995091815416375, 0.7678984638792804, 0.8131886197081616, 0.741429946008149, 0.2616811574146409, 0.9997288801792702, 0.9996325434710011, 0.9886815352165601, 0.6788008690981039, 0.7867962196689181, 0.0524530813112612, 0.022479891990540516, 0.14237264927342327, 0.4821428066878049, 0.5357142296531165, 0.6331559341044318, 0.6541294356035852, 0.9403415502689998], \"Term\": [\".gettim\", \".htaccess\", \".item\", \".msg\", \"/admin\", \"/artifactid\", \"/behavior\", \"/bind\", \"/bind\", \"/border\", \"/build\", \"/code\", \"/configur\", \"/configur\", \"/configur\", \"/datagridtemplatecolumn\", \"/datagridtemplatecolumn.celltempl\", \"/datatempl\", \"/depend\", \"/exclus\", \"/execut\", \"/goal\", \"/grid\", \"/groupid\", \"/includ\", \"/linearlayout\", \"/login\", \"/modelvers\", \"/phase\", \"/plugin\", \"/properti\", \"/properti\", \"/relativelayout\", \"/repositori\", \"/scope\", \"/servic\", \"/servic\", \"/servlet-nam\", \"/setter\", \"/stackpanel\", \"/strong\", \"/textblock\", \"/version\", \"00:00\", \"10dp\", \"1111\", \"2014\", \"2015\", \"2016\", \"2147483647\", \"4.0.0\", \":newinst\", \"\\\\datetim\", \"__dir__\", \"__init__.pi\", \"_request\", \"a_list\", \"abstracttyp\", \"access-control-allow-origin\", \"access_control\", \"aclass\", \"activityt\", \"address=\", \"address=\", \"admob\", \"analyt\", \"anarray\", \"android\", \"android\", \"android=\", \"app-\", \"appengin\", \"applet\", \"applicationfilterc\", \"appoint\", \"arr1\", \"arr2\", \"array\", \"array1\", \"array2\", \"artifactid\", \"background=\", \"background=\", \"background=\", \"banner\", \"beautifulsoup\", \"behaviorconfiguration=\", \"bind\", \"bind\", \"binding=\", \"binding=\", \"bindingconfiguration=\", \"boot\", \"borderbrush=\", \"borderthickness=\", \"buildform\", \"callabl\", \"canari\", \"check_path\", \"checkout\", \"checkstyl\", \"class\", \"class1\", \"class2\", \"code\", \"codec\", \"column=1\", \"column_nam\", \"columndefinit\", \"compass\", \"complianc\", \"container-\", \"contract=\", \"controltempl\", \"converter=\", \"cor\", \"crawler\", \"creat\", \"dashboard\", \"data\", \"datafram\", \"datagridtemplatecolumn\", \"datagridtemplatecolumn.celltempl\", \"dataoutputstream\", \"datatempl\", \"datatempl\", \"date\", \"date1\", \"datediff\", \"datef\", \"datetimepick\", \"denomin\", \"depend\", \"depend\", \"dept\", \"devtool\", \"doctrine\\\\orm\\\\map\", \"draggabl\", \"e/androidruntim\", \"edittext\", \"edittext\", \"email\", \"email_bodi\", \"email_from\", \"email_messag\", \"email_subject\", \"end=\", \"enddat\", \"error\", \"error_messag\", \"event-\", \"facet\", \"fibonacci\", \"file\", \"filesystem\", \"fill_par\", \"findviewbyid\", \"findviewbyid\", \"fontsize=\", \"foreground=\", \"foreground=\", \"formbuilderinterfac\", \"fos_\", \"fos_userbundl\", \"fragment\", \"fragment\", \"function\", \"fusion\", \"galleri\", \"galleri\", \"geojson\", \"getact\", \"goal\", \"goal\", \"googlemap\", \"googlemap\", \"gradl\", \"gravity=\", \"gregoriancalendar\", \"grep\", \"grid\", \"grid\", \"grid.column=\", \"grid.row=\", \"groupid\", \"groupid\", \"hbase\", \"header=\", \"header=\", \"height=\", \"height=\", \"heroku\", \"hierarchicaldatatempl\", \"highscor\", \"horizontalalignment=\", \"href=\", \"httpurlconnect\", \"imag\", \"imageview\", \"imageview\", \"importerror\", \"importerror\", \"india\", \"inversedby=\", \"inversedby=\", \"is_authenticated_anonym\", \"itemssource=\", \"itemssource=\", \"jack\", \"jsonarray\", \"jsonobject\", \"jsonobject\", \"layout\", \"layout\", \"layout_below=\", \"layout_gravity=\", \"layout_height=\", \"layout_marginleft=\", \"layout_margintop=\", \"layout_weight=\", \"layout_width=\", \"layouti\", \"layoutinflat\", \"leftjoin\", \"level1\", \"licens\", \"licens\", \"like\", \"linearlayout\", \"linearlayout\", \"list2\", \"locald\", \"locationmanag\", \"log.d\", \"logfil\", \"login_path\", \"logo\", \"logo\", \"long_nam\", \"loopcount\", \"mail-\", \"mailchimp\", \"mainact\", \"mappedby=\", \"mappedby=\", \"margin=\", \"markeropt\", \"match_par\", \"matplotlib\", \"median\", \"memcach\", \"message-\", \"meter\", \"method1\", \"method2\", \"mocha\", \"modelandview\", \"modelvers\", \"monster\", \"mycustomcontrol\", \"myfunct\", \"myid\", \"name\", \"name=\", \"name=\", \"need\", \"new-object\", \"newlist\", \"nexus\", \"nexus\", \"nginx\", \"nodej\", \"nullable=fals\", \"nullable=tru\", \"num\", \"num1\", \"num2\", \"num3\", \"num_i\", \"numpi\", \"orientation=\", \"orientation=\", \"orm\\\\column\", \"orm\\\\column\", \"orm\\\\ent\", \"orm\\\\generatedvalu\", \"orm\\\\id\", \"orm\\\\joincolumn\", \"orm\\\\joincolumn\", \"orm\\\\onetomani\", \"orm\\\\tabl\", \"outputtext\", \"pager\", \"palindrom\", \"partit\", \"partit\", \"phase\", \"phase\", \"phrase\", \"plugin\", \"plugin\", \"portfolio\", \"portlet\", \"printer\", \"project\", \"promis\", \"propel\", \"property=\", \"property=\", \"public\", \"purchas\", \"pvalu\", \"pygam\", \"python2\", \"recyclerview\", \"referencedcolumnname=\", \"referencedcolumnname=\", \"reinstal\", \"relativelayout\", \"relativelayout\", \"relativesourc\", \"relativesource=\", \"return\", \"rewritecond\", \"rewriterul\", \"rgba\", \"robolectr\", \"role_admin\", \"role_super_admin\", \"role_us\", \"room\", \"row-\", \"row=0\", \"rowdefinit\", \"rownum\", \"savedinstancest\", \"savedinstancest\", \"schemalocation=\", \"schemalocation=\", \"securitycontext\", \"self.a\", \"sendgrid\", \"sendmail\", \"sendmail\", \"sentenc\", \"serv_addr\", \"server\", \"server_\", \"servicemetadata\", \"servlet-nam\", \"setter\", \"setter\", \"short_nam\", \"short_nam\", \"slug\", \"solr\", \"sonata\", \"sonataadminbundl\", \"sortable=\", \"soup\", \"ssis\", \"stackpanel\", \"stackpanel\", \"staticresourc\", \"staticresourc\", \"strategy=\", \"string\", \"string1\", \"string2\", \"strong\", \"subprocess\", \"subprocess.popen\", \"sudo\", \"surnam\", \"table_nam\", \"tableview\", \"tail\", \"targettype=\", \"temp1\", \"templatebind\", \"test\", \"test1\", \"test1\", \"test_\", \"testb\", \"text=\", \"text=\", \"text=\", \"textblock\", \"textblock\", \"textbox1\", \"textcolor=\", \"textsize=\", \"textview\", \"textview\", \"textwrapping=\", \"time1\", \"tkinter\", \"tkinter\", \"tools=\", \"treenod\", \"tri\", \"type1\", \"uninstal\", \"url-pattern\", \"use\", \"user\", \"userinput\", \"uses-permiss\", \"valu\", \"vbcrlf\", \"version\", \"version\", \"vertic\", \"vertic\", \"vertic\", \"verticalalignment=\", \"viewpag\", \"virtualenv\", \"voic\", \"vowel\", \"want\", \"webapi\", \"webdriv\", \"width=\", \"width=\", \"work\", \"would\", \"wrap_cont\", \"xamarin\", \"xmlns\", \"xmlns\", \"xmlns\", \"xmlns\", \"xsi=\", \"xsi=\", \"\\u00e2\\u0094\\u0082\\u00e2\", \"\\u00e2\\u0094\\u0094\\u00e2\\u0094\\u0080\\u00e2\\u0094\\u0080\", \"\\u00e2\\u0094\\u009c\\u00e2\\u0094\\u0080\\u00e2\\u0094\\u0080\"]}, \"R\": 30, \"lambda.step\": 0.01, \"plot.opts\": {\"xlab\": \"PC1\", \"ylab\": \"PC2\"}, \"topic.order\": [1, 8, 5, 7, 9, 10, 2, 4, 6, 3]};\n",
       "\n",
       "function LDAvis_load_lib(url, callback){\n",
       "  var s = document.createElement('script');\n",
       "  s.src = url;\n",
       "  s.async = true;\n",
       "  s.onreadystatechange = s.onload = callback;\n",
       "  s.onerror = function(){console.warn(\"failed to load library \" + url);};\n",
       "  document.getElementsByTagName(\"head\")[0].appendChild(s);\n",
       "}\n",
       "\n",
       "if(typeof(LDAvis) !== \"undefined\"){\n",
       "   // already loaded: just create the visualization\n",
       "   !function(LDAvis){\n",
       "       new LDAvis(\"#\" + \"ldavis_el3718022913550598089300002809\", ldavis_el3718022913550598089300002809_data);\n",
       "   }(LDAvis);\n",
       "}else if(typeof define === \"function\" && define.amd){\n",
       "   // require.js is available: use it to load d3/LDAvis\n",
       "   require.config({paths: {d3: \"https://d3js.org/d3.v5\"}});\n",
       "   require([\"d3\"], function(d3){\n",
       "      window.d3 = d3;\n",
       "      LDAvis_load_lib(\"https://cdn.jsdelivr.net/gh/bmabey/pyLDAvis@3.3.1/pyLDAvis/js/ldavis.v3.0.0.js\", function(){\n",
       "        new LDAvis(\"#\" + \"ldavis_el3718022913550598089300002809\", ldavis_el3718022913550598089300002809_data);\n",
       "      });\n",
       "    });\n",
       "}else{\n",
       "    // require.js not available: dynamically load d3 & LDAvis\n",
       "    LDAvis_load_lib(\"https://d3js.org/d3.v5.js\", function(){\n",
       "         LDAvis_load_lib(\"https://cdn.jsdelivr.net/gh/bmabey/pyLDAvis@3.3.1/pyLDAvis/js/ldavis.v3.0.0.js\", function(){\n",
       "                 new LDAvis(\"#\" + \"ldavis_el3718022913550598089300002809\", ldavis_el3718022913550598089300002809_data);\n",
       "            })\n",
       "         });\n",
       "}\n",
       "</script>"
      ],
      "text/plain": [
       "PreparedData(topic_coordinates=              x         y  topics  cluster       Freq\n",
       "topic                                                \n",
       "0     -0.376524  0.000526       1        1  71.299123\n",
       "7      0.039406 -0.024879       2        1   4.537964\n",
       "4      0.044356  0.046930       3        1   4.526062\n",
       "6      0.039951 -0.022049       4        1   4.235347\n",
       "8      0.044719 -0.000089       5        1   3.078671\n",
       "9      0.041752 -0.000155       6        1   2.488348\n",
       "1      0.041695 -0.000063       7        1   2.476574\n",
       "3      0.041610 -0.000072       8        1   2.461843\n",
       "5      0.041591 -0.000050       9        1   2.461107\n",
       "2      0.041444 -0.000099      10        1   2.434962, topic_info=                 Term         Freq        Total Category  logprob  loglift\n",
       "9984          android   641.000000   641.000000  Default  30.0000  30.0000\n",
       "662              bind   263.000000   263.000000  Default  29.0000  29.0000\n",
       "912            depend   353.000000   353.000000  Default  28.0000  28.0000\n",
       "921           version   380.000000   380.000000  Default  27.0000  27.0000\n",
       "21               file  1054.000000  1054.000000  Default  26.0000  26.0000\n",
       "...               ...          ...          ...      ...      ...      ...\n",
       "37175  httpurlconnect     0.789556     1.070325  Topic10  -9.4988   3.4110\n",
       "59876         memcach     0.783212     1.063348  Topic10  -9.5068   3.4095\n",
       "45103          level1     0.747662     1.026559  Topic10  -9.5533   3.3982\n",
       "18327      new-object     0.751618     1.032584  Topic10  -9.5480   3.3976\n",
       "86922            fos_     1.238009     1.968329  Topic10  -9.0490   3.2516\n",
       "\n",
       "[404 rows x 6 columns], token_table=       Topic      Freq       Term\n",
       "term                             \n",
       "1270       8  0.708718    .gettim\n",
       "39970      9  0.824817  .htaccess\n",
       "8250       8  0.885168      .item\n",
       "537        6  0.784275       .msg\n",
       "17396      6  0.759982     /admin\n",
       "...      ...       ...        ...\n",
       "4749       1  0.482143       xsi=\n",
       "4749       3  0.535714       xsi=\n",
       "57950      7  0.633156       ââ\n",
       "57951      7  0.654129  âââ\n",
       "57952      7  0.940342  âââ\n",
       "\n",
       "[439 rows x 3 columns], R=30, lambda_step=0.01, plot_opts={'xlab': 'PC1', 'ylab': 'PC2'}, topic_order=[1, 8, 5, 7, 9, 10, 2, 4, 6, 3])"
      ]
     },
     "execution_count": 96,
     "metadata": {},
     "output_type": "execute_result"
    }
   ],
   "source": [
    "pyLDAvis.enable_notebook()\n",
    "p = gensim_models.prepare(lda_tfidf, corpus_tfidf, dictionary = lda_tfidf.id2word)\n",
    "p"
   ]
  },
  {
   "cell_type": "code",
   "execution_count": null,
   "metadata": {},
   "outputs": [],
   "source": []
  }
 ],
 "metadata": {
  "kernelspec": {
   "display_name": "Python 3",
   "language": "python",
   "name": "python3"
  },
  "language_info": {
   "codemirror_mode": {
    "name": "ipython",
    "version": 3
   },
   "file_extension": ".py",
   "mimetype": "text/x-python",
   "name": "python",
   "nbconvert_exporter": "python",
   "pygments_lexer": "ipython3",
   "version": "3.8.3"
  },
  "orig_nbformat": 4
 },
 "nbformat": 4,
 "nbformat_minor": 2
}
